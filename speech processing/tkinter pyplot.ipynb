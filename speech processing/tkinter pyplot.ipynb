{
 "cells": [
  {
   "cell_type": "code",
   "execution_count": 3,
   "metadata": {
    "collapsed": true
   },
   "outputs": [],
   "source": [
    "from scipy.io import wavfile\n",
    "file_name = 'Xe.wav'\n",
    "rate, data = wavfile.read(file_name)"
   ]
  },
  {
   "cell_type": "code",
   "execution_count": null,
   "metadata": {
    "collapsed": true
   },
   "outputs": [],
   "source": [
    "wavfile.write('Xe-2.wav', rate, data)"
   ]
  },
  {
   "cell_type": "markdown",
   "metadata": {},
   "source": [
    "from Tkinter import *\n",
    "# if you are working under Python 3, comment the previous line and comment out the following line\n",
    "#from tkinter import *\n",
    "\n",
    "root = Tk()\n",
    "\n",
    "w = Label(root, text=\"Hello Tkinter!\")\n",
    "w.pack()\n",
    "\n",
    "root.mainloop()"
   ]
  },
  {
   "cell_type": "code",
   "execution_count": null,
   "metadata": {
    "collapsed": true
   },
   "outputs": [],
   "source": [
    "from Tkinter import *\n",
    "\n",
    "root = Tk()\n",
    "logo = PhotoImage(file=\"../images/fireworks-animated-gif-23.gif\")\n",
    "w1 = Label(root, image=logo).pack(side=\"left\")\n",
    "explanation = \"\"\"At present, only GIF and PPM/PGM\n",
    "formats are supported, but an interface \n",
    "exists to allow additional image file\n",
    "formats to be added easily.\"\"\"\n",
    "w2 = Label(root, \n",
    "           justify=LEFT,\n",
    "           padx = 10, \n",
    "           text=explanation).pack(side=\"right\")\n",
    "root.mainloop()"
   ]
  },
  {
   "cell_type": "code",
   "execution_count": null,
   "metadata": {
    "collapsed": true
   },
   "outputs": [],
   "source": [
    "from Tkinter import *\n",
    "\n",
    "root = Tk()\n",
    "logo = PhotoImage(file=\"../images/fireworks-animated-gif-23.gif\")\n",
    "explanation = \"\"\"At present, only GIF and PPM/PGM\n",
    "formats are supported, but an interface \n",
    "exists to allow additional image file\n",
    "formats to be added easily.\"\"\"\n",
    "w = Label(root, \n",
    "          justify=LEFT,\n",
    "          compound = LEFT,\n",
    "          padx = 10, \n",
    "          text=explanation, \n",
    "          image=logo).pack(side=\"right\")\n",
    "root.mainloop()"
   ]
  },
  {
   "cell_type": "code",
   "execution_count": null,
   "metadata": {
    "collapsed": true
   },
   "outputs": [],
   "source": [
    "import Tkinter as tk\n",
    "\n",
    "counter = 0 \n",
    "def counter_label(label):\n",
    "  def count():\n",
    "    global counter\n",
    "    counter += 1\n",
    "    label.config(text=str(counter))\n",
    "    label.after(1000, count)\n",
    "  count()\n",
    " \n",
    " \n",
    "root = tk.Tk()\n",
    "root.title(\"Counting Seconds\")\n",
    "label = tk.Label(root, fg=\"black\")\n",
    "label.pack()\n",
    "counter_label(label)\n",
    "button = tk.Button(root, text='Stop', width=25, command=root.destroy)\n",
    "button.pack()\n",
    "root.mainloop()"
   ]
  },
  {
   "cell_type": "code",
   "execution_count": 12,
   "metadata": {
    "collapsed": false
   },
   "outputs": [],
   "source": [
    "import matplotlib\n",
    "matplotlib.use('TkAgg')\n",
    "\n",
    "from numpy import arange, sin, pi\n",
    "from matplotlib.backends.backend_tkagg import FigureCanvasTkAgg\n",
    "from matplotlib.figure import Figure\n",
    "\n",
    "import sys\n",
    "if sys.version_info[0] < 3:\n",
    "    import Tkinter as Tk\n",
    "else:\n",
    "    import tkinter as Tk\n",
    "\n",
    "\n",
    "def destroy(e):\n",
    "    sys.exit()\n",
    "\n",
    "root = Tk.Tk()\n",
    "root.wm_title(\"Embedding in TK\")\n",
    "\n",
    "\n",
    "f = Figure(figsize=(5, 4), dpi=100)\n",
    "a = f.add_subplot(121)\n",
    "b = f.add_subplot(122)\n",
    "\n",
    "# t = arange(0.0, 3.0, 0.01)\n",
    "# s = sin(2*pi*t)\n",
    "s = data\n",
    "t = arange(len(data))\n",
    "\n",
    "a.plot(t, s)\n",
    "a.set_title('Tk embedding')\n",
    "a.set_xlabel('X axis label')\n",
    "a.set_ylabel('Y label')\n",
    "\n",
    "b.plot(t, s)\n",
    "b.set_title('Tk embedding')\n",
    "b.set_xlabel('X axis label')\n",
    "b.set_ylabel('Y label')\n",
    "\n",
    "\n",
    "# a tk.DrawingArea\n",
    "canvas = FigureCanvasTkAgg(f, master=root)\n",
    "canvas.show()\n",
    "canvas.get_tk_widget().pack(side=Tk.TOP, fill=Tk.BOTH, expand=1)\n",
    "\n",
    "canvas._tkcanvas.pack(side=Tk.TOP, fill=Tk.BOTH, expand=1)\n",
    "\n",
    "# button = Tk.Button(master=root, text='Quit', command=sys.exit)\n",
    "button = Tk.Button(master=root, text='Quit', command=root.destroy)\n",
    "button.pack(side=Tk.BOTTOM)\n",
    "\n",
    "Tk.mainloop()"
   ]
  },
  {
   "cell_type": "code",
   "execution_count": null,
   "metadata": {
    "collapsed": false
   },
   "outputs": [
    {
     "name": "stdout",
     "output_type": "stream",
     "text": [
      "Tkinter is easy to use!\n"
     ]
    }
   ],
   "source": [
    "from Tkinter import *\n",
    "class App:\n",
    "  def __init__(self, master):\n",
    "    frame = Frame(master)\n",
    "    frame.pack()\n",
    "    self.button = Button(frame, \n",
    "                         text=\"QUIT\", fg=\"red\",\n",
    "                         command=quit)\n",
    "    self.button.pack(side=LEFT)\n",
    "    self.slogan = Button(frame,\n",
    "                         text=\"Hello\",\n",
    "                         command=self.write_slogan)\n",
    "    self.slogan.pack(side=LEFT)\n",
    "  def write_slogan(self):\n",
    "    print(\"Tkinter is easy to use!\")\n",
    "\n",
    "root = Tk()\n",
    "app = App(root)\n",
    "root.mainloop()"
   ]
  },
  {
   "cell_type": "code",
   "execution_count": 1,
   "metadata": {
    "collapsed": true
   },
   "outputs": [],
   "source": [
    "import Tkinter as tk\n",
    "\n",
    "counter = 0 \n",
    "def counter_label(label):\n",
    "  counter = 0\n",
    "  def count():\n",
    "    global counter\n",
    "    counter += 1\n",
    "    label.config(text=str(counter))\n",
    "    label.after(1000, count)\n",
    "  count()\n",
    " \n",
    " \n",
    "root = tk.Tk()\n",
    "root.title(\"Counting Seconds\")\n",
    "label = tk.Label(root, fg=\"dark green\")\n",
    "label.pack()\n",
    "counter_label(label)\n",
    "button = tk.Button(root, text='Stop', width=25, command=root.destroy)\n",
    "button.pack()\n",
    "root.mainloop()"
   ]
  },
  {
   "cell_type": "code",
   "execution_count": 3,
   "metadata": {
    "collapsed": false
   },
   "outputs": [
    {
     "name": "stdout",
     "output_type": "stream",
     "text": [
      "3\n"
     ]
    }
   ],
   "source": [
    "from Tkinter import *\n",
    "\n",
    "root = Tk()\n",
    "\n",
    "v = IntVar()\n",
    "v.set(1)  # initializing the choice, i.e. Python\n",
    "\n",
    "languages = [\n",
    "    (\"Python\",1),\n",
    "    (\"Perl\",2),\n",
    "    (\"Java\",3),\n",
    "    (\"C++\",4),\n",
    "    (\"C\",5)\n",
    "]\n",
    "\n",
    "def ShowChoice():\n",
    "    print v.get()\n",
    "\n",
    "Label(root, \n",
    "      text=\"\"\"Choose your favourite \n",
    "programming language:\"\"\",\n",
    "      justify = LEFT,\n",
    "      padx = 20).pack()\n",
    "\n",
    "for txt, val in languages:\n",
    "#     Radiobutton(root, \n",
    "#                 text=txt,\n",
    "#                 padx = 20, \n",
    "#                 variable=v, \n",
    "#                 command=ShowChoice,\n",
    "#                 value=val).pack(anchor=W)\n",
    "    Radiobutton(root, \n",
    "                text=txt,\n",
    "                indicatoron = 0,\n",
    "                width = 20,\n",
    "                padx = 20, \n",
    "                variable=v, \n",
    "                command=ShowChoice,\n",
    "                value=val).pack(anchor=W)\n",
    "\n",
    "\n",
    "mainloop()"
   ]
  },
  {
   "cell_type": "code",
   "execution_count": 4,
   "metadata": {
    "collapsed": false
   },
   "outputs": [
    {
     "name": "stdout",
     "output_type": "stream",
     "text": [
      "/home/cuonghn/workspace/python/myipython/speech processing/Xe.wav\n",
      "/home/cuonghn/workspace/python/myipython/speech processing/Xe-2.wav\n"
     ]
    }
   ],
   "source": [
    "from Tkinter import *\n",
    "from tkFileDialog   import askopenfilename      \n",
    "\n",
    "def callback():\n",
    "    name= askopenfilename() \n",
    "    print name\n",
    "    \n",
    "errmsg = 'Error!'\n",
    "Button(text='File Open', command=callback).pack(fill=X)\n",
    "mainloop()"
   ]
  },
  {
   "cell_type": "code",
   "execution_count": null,
   "metadata": {
    "collapsed": true
   },
   "outputs": [],
   "source": []
  }
 ],
 "metadata": {
  "anaconda-cloud": {},
  "kernelspec": {
   "display_name": "Python [default]",
   "language": "python",
   "name": "python2"
  },
  "language_info": {
   "codemirror_mode": {
    "name": "ipython",
    "version": 2
   },
   "file_extension": ".py",
   "mimetype": "text/x-python",
   "name": "python",
   "nbconvert_exporter": "python",
   "pygments_lexer": "ipython2",
   "version": "2.7.12"
  }
 },
 "nbformat": 4,
 "nbformat_minor": 0
}
