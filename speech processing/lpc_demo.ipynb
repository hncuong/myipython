{
 "cells": [
  {
   "cell_type": "code",
   "execution_count": 1,
   "metadata": {
    "collapsed": false
   },
   "outputs": [
    {
     "name": "stdout",
     "output_type": "stream",
     "text": [
      "\n"
     ]
    }
   ],
   "source": [
    "from Tkinter import *\n",
    "from tkFileDialog   import askopenfilename      \n",
    "\n",
    "def callback():\n",
    "    name= askopenfilename() \n",
    "    print name\n",
    "    \n",
    "errmsg = 'Error!'\n",
    "Button(text='File Open', command=callback).pack(fill=X)\n",
    "mainloop()"
   ]
  },
  {
   "cell_type": "code",
   "execution_count": null,
   "metadata": {
    "collapsed": true
   },
   "outputs": [],
   "source": [
    "import matplotlib\n",
    "matplotlib.use('TkAgg')\n",
    "\n",
    "from numpy import arange, sin, pi\n",
    "from matplotlib.backends.backend_tkagg import FigureCanvasTkAgg\n",
    "from matplotlib.figure import Figure\n",
    "\n",
    "import sys\n",
    "if sys.version_info[0] < 3:\n",
    "    import Tkinter as Tk\n",
    "else:\n",
    "    import tkinter as Tk\n",
    "\n",
    "\n",
    "def destroy(e):\n",
    "    sys.exit()\n",
    "\n",
    "root = Tk.Tk()\n",
    "root.wm_title(\"Embedding in TK\")\n",
    "\n",
    "\n",
    "f = Figure(figsize=(5, 4), dpi=100)\n",
    "a = f.add_subplot(121)\n",
    "b = f.add_subplot(122)\n",
    "\n",
    "# t = arange(0.0, 3.0, 0.01)\n",
    "# s = sin(2*pi*t)\n",
    "s = data\n",
    "t = arange(len(data))\n",
    "\n",
    "a.plot(t, s)\n",
    "a.set_title('Tk embedding')\n",
    "a.set_xlabel('X axis label')\n",
    "a.set_ylabel('Y label')\n",
    "\n",
    "b.plot(t, s)\n",
    "b.set_title('Tk embedding')\n",
    "b.set_xlabel('X axis label')\n",
    "b.set_ylabel('Y label')\n",
    "\n",
    "\n",
    "# a tk.DrawingArea\n",
    "canvas = FigureCanvasTkAgg(f, master=root)\n",
    "canvas.show()\n",
    "canvas.get_tk_widget().pack(side=Tk.TOP, fill=Tk.BOTH, expand=1)\n",
    "\n",
    "canvas._tkcanvas.pack(side=Tk.TOP, fill=Tk.BOTH, expand=1)\n",
    "\n",
    "# button = Tk.Button(master=root, text='Quit', command=sys.exit)\n",
    "button = Tk.Button(master=root, text='Quit', command=root.destroy)\n",
    "button.pack(side=Tk.BOTTOM)\n",
    "\n",
    "Tk.mainloop()"
   ]
  }
 ],
 "metadata": {
  "anaconda-cloud": {},
  "kernelspec": {
   "display_name": "Python [conda root]",
   "language": "python",
   "name": "conda-root-py"
  },
  "language_info": {
   "codemirror_mode": {
    "name": "ipython",
    "version": 2
   },
   "file_extension": ".py",
   "mimetype": "text/x-python",
   "name": "python",
   "nbconvert_exporter": "python",
   "pygments_lexer": "ipython2",
   "version": "2.7.12"
  }
 },
 "nbformat": 4,
 "nbformat_minor": 1
}
