{
 "cells": [
  {
   "cell_type": "code",
   "execution_count": 37,
   "metadata": {
    "collapsed": false
   },
   "outputs": [],
   "source": [
    "from audiolazy.lazy_filters import z, Stream\n",
    "import wave\n",
    "import numpy as np\n",
    "import matplotlib.pyplot as plt\n",
    "from audiolazy.lazy_analysis import window\n",
    "import scipy.io.wavfile as wf\n",
    "from audiolazy.lazy_lpc import acorr\n",
    "from audiolazy.lazy_lpc import lpc\n",
    "\n",
    "\n",
    "def read_audio(path):\n",
    "    source = wf.read(path)\n",
    "    rate = source[0]\n",
    "    data = source[1]\n",
    "\n",
    "    return rate, data\n",
    "\n",
    "\n",
    "def pre_emphasis(signal):\n",
    "    start = Stream(signal)\n",
    "    filter_func = 1 - 0.97 * z ** -1\n",
    "    output = filter_func(start, zero=0).take(len(signal))\n",
    "    return np.array(output)\n",
    "\n",
    "\n",
    "def overlap_analysis_window(signal, window_size, overlap_size):\n",
    "    start = 0\n",
    "    stop = len(signal)\n",
    "    separate_size = window_size - overlap_size\n",
    "    windows = []\n",
    "    for start in range(0, len(signal), separate_size):\n",
    "        end = min(start + window_size, stop)\n",
    "        windows.append(signal[start:end])\n",
    "    return np.array(windows)\n",
    "\n",
    "\n",
    "def hamming_one_window(signal):\n",
    "    return window.hamming(len(signal)) * signal\n",
    "\n",
    "\n",
    "def hamming_many_window(signals):\n",
    "    return np.array([np.array(window.hamming(len(signal))) * signal for signal in signals])\n",
    "\n",
    "\n",
    "def auto_correlation_many_window(signals, p):\n",
    "    return np.array([acorr(signal, max_lag=p) for signal in signals])\n",
    "\n",
    "\n",
    "def save(path, params, frames):\n",
    "    file = wave.open(path, \"w\")\n",
    "    file.setparams(params)\n",
    "    file.writeframes(frames)\n",
    "    file.close()\n",
    "\n",
    "\n",
    "def combine(signals, overlap_size):\n",
    "    result = np.array([])\n",
    "    for i in range(0, len(signals)):\n",
    "        if i > 0:\n",
    "            result = np.append(result, signals[i][overlap_size:])\n",
    "        else:\n",
    "            result = np.append(result, signals[i])\n",
    "\n",
    "    return result\n",
    "\n",
    "def lpc_coffiecent(signals, p):\n",
    "    filter_cfs = np.array([lpc.kautocor(signal, p) for signal in signals])\n",
    "    return filter_cfs\n",
    "\n",
    "def analyze(signal, level, overlap_size, window_size):\n",
    "    print \"Create overlap analysis window\"\n",
    "    a = overlap_analysis_window(signal, window_size, overlap_size)\n",
    "    print \"Finish create overlap analysis window\"\n",
    "\n",
    "    print \"Find LPC parameters\"\n",
    "    filter_function = np.array([lpc.kautocor(w, level) for w in a])\n",
    "    print \"Finish find LPC parameters\"\n",
    "\n",
    "    output = []\n",
    "    for index in range(0, len(a)):\n",
    "        output.append(filter_function[index](a[index], zero=0).take(len(a[index])))\n",
    "\n",
    "    output = combine(np.array(output), overlap_size)\n",
    "    return output\n",
    "\n",
    "\n",
    "def test():\n",
    "    print \"Start\"\n",
    "    level = 30\n",
    "    overlap_size = 0\n",
    "    window_size = 500\n",
    "    rate, channel = read_audio(\"wav/Xe.wav\")\n",
    "    print len(channel)\n",
    "\n",
    "    output = analyze(channel, level, overlap_size, window_size)\n",
    "    wf.write(\"wav/Xe_out.wav\", rate, output)\n",
    "\n",
    "\n",
    "def visualize(data, rate, name):\n",
    "    # Extract Raw Audio from Wav File\n",
    "    time = np.linspace(0, len(data) / rate, num=len(data))\n",
    "    plt.figure()\n",
    "    plt.title('Signal Wave...')\n",
    "    plt.plot(data)\n",
    "    plt.savefig(name)\n"
   ]
  },
  {
   "cell_type": "code",
   "execution_count": 2,
   "metadata": {
    "collapsed": true
   },
   "outputs": [],
   "source": [
    "from scipy.io import wavfile\n",
    "file_name = 'Xe.wav'\n",
    "# file_name = 'A96.wav'\n",
    "rate, signal = wavfile.read(file_name)"
   ]
  },
  {
   "cell_type": "code",
   "execution_count": 3,
   "metadata": {
    "collapsed": true
   },
   "outputs": [],
   "source": [
    "data = signal[0:512]"
   ]
  },
  {
   "cell_type": "code",
   "execution_count": 6,
   "metadata": {
    "collapsed": false
   },
   "outputs": [],
   "source": [
    "visualize(data, rate, \"voice_{0}\".format(0))"
   ]
  },
  {
   "cell_type": "code",
   "execution_count": 16,
   "metadata": {
    "collapsed": true
   },
   "outputs": [],
   "source": [
    "a = pre_emphasis(data)"
   ]
  },
  {
   "cell_type": "code",
   "execution_count": 17,
   "metadata": {
    "collapsed": false
   },
   "outputs": [
    {
     "data": {
      "text/plain": [
       "512"
      ]
     },
     "execution_count": 17,
     "metadata": {},
     "output_type": "execute_result"
    }
   ],
   "source": [
    "len(a)"
   ]
  },
  {
   "cell_type": "code",
   "execution_count": 18,
   "metadata": {
    "collapsed": false
   },
   "outputs": [],
   "source": [
    "b = hamming_one_window(a)"
   ]
  },
  {
   "cell_type": "code",
   "execution_count": 23,
   "metadata": {
    "collapsed": false
   },
   "outputs": [
    {
     "data": {
      "text/plain": [
       "numpy.ndarray"
      ]
     },
     "execution_count": 23,
     "metadata": {},
     "output_type": "execute_result"
    }
   ],
   "source": [
    "type(b)"
   ]
  },
  {
   "cell_type": "code",
   "execution_count": 22,
   "metadata": {
    "collapsed": false
   },
   "outputs": [
    {
     "data": {
      "text/plain": [
       "array([[ 33332.24056736, -10915.79092679,    554.13806116,   4627.61113924,\n",
       "         -4241.57278191,   3391.39865938,  -2612.81116688,   5268.27229542,\n",
       "         -3592.32272168,   3894.75364363,  -2628.36846459,    162.0118101 ,\n",
       "           438.14483224,   -646.12922826,   3748.23707324,  -1957.62843179,\n",
       "          5043.28673136,   1152.60566453,    837.00280107,    958.0028183 ,\n",
       "          1151.93773206]])"
      ]
     },
     "execution_count": 22,
     "metadata": {},
     "output_type": "execute_result"
    }
   ],
   "source": [
    "auto_correlation([b], 20)"
   ]
  },
  {
   "cell_type": "code",
   "execution_count": 30,
   "metadata": {
    "collapsed": true
   },
   "outputs": [],
   "source": [
    "signals = overlap_analysis_window(empa, window_size=256, overlap_size=128)"
   ]
  },
  {
   "cell_type": "code",
   "execution_count": 39,
   "metadata": {
    "collapsed": false
   },
   "outputs": [
    {
     "data": {
      "text/plain": [
       "101"
      ]
     },
     "execution_count": 39,
     "metadata": {},
     "output_type": "execute_result"
    }
   ],
   "source": [
    "len(cof)"
   ]
  },
  {
   "cell_type": "code",
   "execution_count": 29,
   "metadata": {
    "collapsed": false
   },
   "outputs": [],
   "source": [
    "empa = pre_emphasis(signal)"
   ]
  },
  {
   "cell_type": "code",
   "execution_count": 33,
   "metadata": {
    "collapsed": false
   },
   "outputs": [],
   "source": [
    "ham = hamming_many_window(signals)"
   ]
  },
  {
   "cell_type": "code",
   "execution_count": 38,
   "metadata": {
    "collapsed": true
   },
   "outputs": [],
   "source": [
    "cof = lpc_coffiecent(ham, 19)"
   ]
  },
  {
   "cell_type": "code",
   "execution_count": 42,
   "metadata": {
    "collapsed": false
   },
   "outputs": [],
   "source": [
    "import matplotlib\n",
    "matplotlib.use('TkAgg')\n",
    "\n",
    "from numpy import arange, sin, pi\n",
    "from matplotlib.backends.backend_tkagg import FigureCanvasTkAgg\n",
    "from matplotlib.figure import Figure\n",
    "\n",
    "import sys\n",
    "if sys.version_info[0] < 3:\n",
    "    import Tkinter as Tk\n",
    "else:\n",
    "    import tkinter as Tk\n",
    "\n",
    "\n",
    "def destroy(e):\n",
    "    sys.exit()\n",
    "# def tk_lpc(file_name, root):\n",
    "root = Tk.Tk()\n",
    "root.wm_title(\"LPC\")\n",
    "\n",
    "f = Figure(figsize=(5, 4), dpi=100)\n",
    "a = f.add_subplot(311)\n",
    "b = f.add_subplot(312)\n",
    "# c = f.add_subplot(313)\n",
    "\n",
    "rate, signal = wavfile.read(file_name)\n",
    "signal = signal.astype('int64')\n",
    "a.plot(np.arange(len(signal)), signal)\n",
    "a.set_title('Speech signal')\n",
    "a.set_xlabel('samples')\n",
    "a.set_ylabel('magtitude')\n",
    "\n",
    "# energy = energy_in_frame(signal)\n",
    "b.plot(np.arange(len(empa)), empa)\n",
    "b.set_title('Hieu chinh')\n",
    "b.set_xlabel('samples')\n",
    "b.set_ylabel('magtitude')\n",
    "\n",
    "# c.plot(t, zcr)\n",
    "# zcr = zero_crossing(signal)\n",
    "# c.plot(np.arange(len(zcr)), zcr)\n",
    "# c.set_title('zcr')\n",
    "# c.set_xlabel('samples')\n",
    "# c.set_ylabel('zcr')\n",
    "\n",
    "\n",
    "# a tk.DrawingArea\n",
    "canvas = FigureCanvasTkAgg(f, master=root)\n",
    "canvas.show()\n",
    "canvas.get_tk_widget().pack(side=Tk.TOP, fill=Tk.BOTH, expand=1)\n",
    "\n",
    "canvas._tkcanvas.pack(side=Tk.TOP, fill=Tk.BOTH, expand=1)\n",
    "\n",
    "# button = Tk.Button(master=root, text='Quit', command=sys.exit)\n",
    "button = Tk.Button(master=root, text='Quit', command=root.destroy)\n",
    "button.pack(side=Tk.BOTTOM)\n",
    "\n",
    "Tk.mainloop()"
   ]
  },
  {
   "cell_type": "code",
   "execution_count": 43,
   "metadata": {
    "collapsed": true
   },
   "outputs": [],
   "source": [
    "p = 19\n",
    "sizez = 128"
   ]
  },
  {
   "cell_type": "code",
   "execution_count": 47,
   "metadata": {
    "collapsed": true
   },
   "outputs": [],
   "source": [
    "out = np.zeros(len(signal))"
   ]
  },
  {
   "cell_type": "code",
   "execution_count": null,
   "metadata": {
    "collapsed": true
   },
   "outputs": [],
   "source": [
    "cof2 = "
   ]
  },
  {
   "cell_type": "code",
   "execution_count": 46,
   "metadata": {
    "collapsed": false
   },
   "outputs": [
    {
     "ename": "AttributeError",
     "evalue": "'ZFilter' object has no attribute 'shape'",
     "output_type": "error",
     "traceback": [
      "\u001b[0;31m---------------------------------------------------------------------------\u001b[0m",
      "\u001b[0;31mAttributeError\u001b[0m                            Traceback (most recent call last)",
      "\u001b[0;32m<ipython-input-46-dbd65a9fb83c>\u001b[0m in \u001b[0;36m<module>\u001b[0;34m()\u001b[0m\n\u001b[0;32m----> 1\u001b[0;31m \u001b[0mcof\u001b[0m\u001b[0;34m[\u001b[0m\u001b[0;36m1\u001b[0m\u001b[0;34m]\u001b[0m\u001b[0;34m.\u001b[0m\u001b[0mshape\u001b[0m\u001b[0;34m\u001b[0m\u001b[0m\n\u001b[0m",
      "\u001b[0;31mAttributeError\u001b[0m: 'ZFilter' object has no attribute 'shape'"
     ]
    }
   ],
   "source": [
    "output = []\n",
    "for index in range(0, len(a)):\n",
    "        output.append(filter_function[index](a[index], zero=0).take(len(a[index])))"
   ]
  },
  {
   "cell_type": "code",
   "execution_count": null,
   "metadata": {
    "collapsed": true
   },
   "outputs": [],
   "source": [
    "for idx in range(0, len(signal)/sizez):\n",
    "    start = idx * sizez + p\n",
    "    stop = start + sizez\n",
    "    for x in range(start:stop):\n",
    "        out[x] = "
   ]
  }
 ],
 "metadata": {
  "anaconda-cloud": {},
  "kernelspec": {
   "display_name": "Python [conda root]",
   "language": "python",
   "name": "conda-root-py"
  },
  "language_info": {
   "codemirror_mode": {
    "name": "ipython",
    "version": 2
   },
   "file_extension": ".py",
   "mimetype": "text/x-python",
   "name": "python",
   "nbconvert_exporter": "python",
   "pygments_lexer": "ipython2",
   "version": "2.7.12"
  }
 },
 "nbformat": 4,
 "nbformat_minor": 1
}
