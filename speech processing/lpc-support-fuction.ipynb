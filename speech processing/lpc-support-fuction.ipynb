{
 "cells": [
  {
   "cell_type": "code",
   "execution_count": 1,
   "metadata": {
    "collapsed": false
   },
   "outputs": [],
   "source": [
    "import numpy as np\n",
    "from scipy.ndimage.interpolation import shift\n",
    "\n",
    "xs = np.array([ 0.,  1.,  2.,  3.,  4.,  5.,  6.,  7.,  8.,  9.])\n",
    "\n",
    "ys = shift(xs, 3, cval=0.)"
   ]
  },
  {
   "cell_type": "code",
   "execution_count": 2,
   "metadata": {
    "collapsed": false
   },
   "outputs": [
    {
     "data": {
      "text/plain": [
       "array([ 0.,  1.,  2.,  3.,  4.,  5.,  6.,  7.,  8.,  9.])"
      ]
     },
     "execution_count": 2,
     "metadata": {},
     "output_type": "execute_result"
    }
   ],
   "source": [
    "xs"
   ]
  },
  {
   "cell_type": "code",
   "execution_count": 3,
   "metadata": {
    "collapsed": false
   },
   "outputs": [],
   "source": [
    "xsi = xs.astype(int)"
   ]
  },
  {
   "cell_type": "code",
   "execution_count": 4,
   "metadata": {
    "collapsed": false
   },
   "outputs": [
    {
     "data": {
      "text/plain": [
       "array([0, 1, 2, 3, 4, 5, 6, 7, 8, 9])"
      ]
     },
     "execution_count": 4,
     "metadata": {},
     "output_type": "execute_result"
    }
   ],
   "source": [
    "xsi"
   ]
  },
  {
   "cell_type": "code",
   "execution_count": 5,
   "metadata": {
    "collapsed": true
   },
   "outputs": [],
   "source": [
    "ysi = shift(xsi, -3, cval=0)"
   ]
  },
  {
   "cell_type": "code",
   "execution_count": 6,
   "metadata": {
    "collapsed": false
   },
   "outputs": [
    {
     "data": {
      "text/plain": [
       "array([3, 4, 5, 6, 7, 8, 9, 0, 0, 0])"
      ]
     },
     "execution_count": 6,
     "metadata": {},
     "output_type": "execute_result"
    }
   ],
   "source": [
    "ysi"
   ]
  },
  {
   "cell_type": "code",
   "execution_count": 7,
   "metadata": {
    "collapsed": true
   },
   "outputs": [],
   "source": [
    "ssi = ysi - xsi"
   ]
  },
  {
   "cell_type": "code",
   "execution_count": 8,
   "metadata": {
    "collapsed": false
   },
   "outputs": [
    {
     "data": {
      "text/plain": [
       "array([ 3,  3,  3,  3,  3,  3,  3, -7, -8, -9])"
      ]
     },
     "execution_count": 8,
     "metadata": {},
     "output_type": "execute_result"
    }
   ],
   "source": [
    "ssi"
   ]
  },
  {
   "cell_type": "code",
   "execution_count": 9,
   "metadata": {
    "collapsed": true
   },
   "outputs": [],
   "source": [
    "assi = np.absolute(ssi)"
   ]
  },
  {
   "cell_type": "code",
   "execution_count": 10,
   "metadata": {
    "collapsed": false
   },
   "outputs": [
    {
     "data": {
      "text/plain": [
       "array([3, 3, 3, 3, 3, 3, 3, 7, 8, 9])"
      ]
     },
     "execution_count": 10,
     "metadata": {},
     "output_type": "execute_result"
    }
   ],
   "source": [
    "assi"
   ]
  },
  {
   "cell_type": "code",
   "execution_count": 11,
   "metadata": {
    "collapsed": true
   },
   "outputs": [],
   "source": [
    "def aver_mag_diff(speech, start, N=512):\n",
    "    pass"
   ]
  },
  {
   "cell_type": "code",
   "execution_count": 12,
   "metadata": {
    "collapsed": false
   },
   "outputs": [
    {
     "data": {
      "text/plain": [
       "9"
      ]
     },
     "execution_count": 12,
     "metadata": {},
     "output_type": "execute_result"
    }
   ],
   "source": [
    "np.sum(assi[:3])"
   ]
  },
  {
   "cell_type": "code",
   "execution_count": 62,
   "metadata": {
    "collapsed": true
   },
   "outputs": [],
   "source": [
    "from scipy.io import wavfile\n",
    "# file_name = 'Xe.wav'\n",
    "file_name = 'A96.wav'\n",
    "rate, signal = wavfile.read(file_name)"
   ]
  },
  {
   "cell_type": "code",
   "execution_count": 88,
   "metadata": {
    "collapsed": true
   },
   "outputs": [],
   "source": [
    "def energy_in_frame(signal, frame_size=256, step=128):\n",
    "    sig_len = len(signal)\n",
    "    sig_square = np.square(signal)\n",
    "    energy = np.zeros(sig_len)\n",
    "    for start in range(0,sig_len - frame_size, step):\n",
    "        energy[start] = np.sum(sig_square[start:start + frame_size])\n",
    "    return energy"
   ]
  },
  {
   "cell_type": "code",
   "execution_count": 64,
   "metadata": {
    "collapsed": false
   },
   "outputs": [
    {
     "data": {
      "text/plain": [
       "array([ 9,  9,  9,  9,  9,  9,  9, 49, 64, 81])"
      ]
     },
     "execution_count": 64,
     "metadata": {},
     "output_type": "execute_result"
    }
   ],
   "source": [
    "np.square(assi)"
   ]
  },
  {
   "cell_type": "code",
   "execution_count": 65,
   "metadata": {
    "collapsed": false
   },
   "outputs": [],
   "source": [
    "import numpy as np"
   ]
  },
  {
   "cell_type": "code",
   "execution_count": 66,
   "metadata": {
    "collapsed": false
   },
   "outputs": [],
   "source": [
    "frame_size = 256\n",
    "num_samples = len(signal)"
   ]
  },
  {
   "cell_type": "code",
   "execution_count": 67,
   "metadata": {
    "collapsed": false
   },
   "outputs": [],
   "source": [
    "signal = signal.astype('int64')"
   ]
  },
  {
   "cell_type": "code",
   "execution_count": 68,
   "metadata": {
    "collapsed": false
   },
   "outputs": [],
   "source": [
    "energy = energy_in_frame(signal, 256)"
   ]
  },
  {
   "cell_type": "code",
   "execution_count": 69,
   "metadata": {
    "collapsed": false
   },
   "outputs": [],
   "source": [
    "def zero_crossing(signal, frame_size=256, step=256):\n",
    "    num_samples = len(signal)\n",
    "    flag = 1\n",
    "    if signal[0] < 0:\n",
    "        flag = -1\n",
    "    zcr_point = np.zeros(num_samples)\n",
    "    for x in range(num_samples-1):\n",
    "        if signal[x+1] >= 0:\n",
    "            new_flag = 1\n",
    "        else:\n",
    "            new_flag = -1\n",
    "        if new_flag != flag:\n",
    "            zcr_point[x] = 1\n",
    "            flag = new_flag\n",
    "    zcr = np.zeros(num_samples)\n",
    "    for start in range(0,num_samples - frame_size, step):\n",
    "        zcr[start] = np.sum(zcr_point[start: start+frame_size])\n",
    "    return zcr"
   ]
  },
  {
   "cell_type": "code",
   "execution_count": 70,
   "metadata": {
    "collapsed": false
   },
   "outputs": [],
   "source": [
    "zcr = zero_crossing(signal)"
   ]
  },
  {
   "cell_type": "code",
   "execution_count": 71,
   "metadata": {
    "collapsed": true
   },
   "outputs": [],
   "source": [
    "from scipy.ndimage.interpolation import shift\n",
    "zcr_s1 = shift(zcr, 20, cval=0)\n",
    "zcr_l1 = shift(zcr, -20, cval=0)\n",
    "zcr_d = 2 * zcr - zcr_s1 - zcr_l1"
   ]
  },
  {
   "cell_type": "code",
   "execution_count": 72,
   "metadata": {
    "collapsed": false
   },
   "outputs": [
    {
     "name": "stdout",
     "output_type": "stream",
     "text": [
      "0.0   0.0   0.0\n",
      "1.76324152623e-38\n",
      "5.55111512313e-17\n",
      "3.33066907388e-16\n"
     ]
    }
   ],
   "source": [
    "print zcr[1000], ' ', zcr[1001], ' ', zcr[1002]\n",
    "print zcr_s1[1002]\n",
    "print zcr_l1[1000]\n",
    "print zcr_d[1001]"
   ]
  },
  {
   "cell_type": "code",
   "execution_count": 44,
   "metadata": {
    "collapsed": false
   },
   "outputs": [
    {
     "data": {
      "text/plain": [
       "['',\n",
       " '/home/cuonghn/anaconda2/lib/python27.zip',\n",
       " '/home/cuonghn/anaconda2/lib/python2.7',\n",
       " '/home/cuonghn/anaconda2/lib/python2.7/plat-linux2',\n",
       " '/home/cuonghn/anaconda2/lib/python2.7/lib-tk',\n",
       " '/home/cuonghn/anaconda2/lib/python2.7/lib-old',\n",
       " '/home/cuonghn/anaconda2/lib/python2.7/lib-dynload',\n",
       " '/home/cuonghn/anaconda2/lib/python2.7/site-packages',\n",
       " '/home/cuonghn/anaconda2/lib/python2.7/site-packages/Sphinx-1.4.6-py2.7.egg',\n",
       " '/home/cuonghn/anaconda2/lib/python2.7/site-packages/setuptools-27.2.0-py2.7.egg',\n",
       " '/home/cuonghn/anaconda2/lib/python2.7/site-packages/IPython/extensions',\n",
       " '/home/cuonghn/.ipython']"
      ]
     },
     "execution_count": 44,
     "metadata": {},
     "output_type": "execute_result"
    }
   ],
   "source": [
    "import sys\n",
    "sys.path"
   ]
  },
  {
   "cell_type": "code",
   "execution_count": 45,
   "metadata": {
    "collapsed": true
   },
   "outputs": [],
   "source": [
    "import audiolazy"
   ]
  },
  {
   "cell_type": "code",
   "execution_count": 46,
   "metadata": {
    "collapsed": true
   },
   "outputs": [],
   "source": [
    "import pyaudio"
   ]
  },
  {
   "cell_type": "code",
   "execution_count": 49,
   "metadata": {
    "collapsed": true
   },
   "outputs": [],
   "source": [
    "import pyaudio\n",
    "import wave\n",
    "import sys\n",
    "\n",
    "# length of data to read.\n",
    "chunk = 1024\n",
    "\n",
    "'''\n",
    "************************************************************************\n",
    "      This is the start of the \"minimum needed to read a wave\"\n",
    "************************************************************************\n",
    "'''\n",
    "# open the file for reading.\n",
    "file_name2 = 'A96.wav'\n",
    "wf = wave.open(file_name2, 'rb')\n",
    "\n",
    "# create an audio object\n",
    "p = pyaudio.PyAudio()\n",
    "\n",
    "# open stream based on the wave object which has been input.\n",
    "stream = p.open(format =\n",
    "                p.get_format_from_width(wf.getsampwidth()),\n",
    "                channels = wf.getnchannels(),\n",
    "                rate = wf.getframerate(),\n",
    "                output = True)\n",
    "\n",
    "# read data (based on the chunk size)\n",
    "data = wf.readframes(chunk)\n",
    "\n",
    "# play stream (looping from beginning of file to the end)\n",
    "while data != '':\n",
    "    # writing to the stream is what *actually* plays the sound.\n",
    "    stream.write(data)\n",
    "    data = wf.readframes(chunk)\n",
    "\n",
    "# cleanup stuff.\n",
    "stream.close()    \n",
    "p.terminate()"
   ]
  },
  {
   "cell_type": "code",
   "execution_count": 74,
   "metadata": {
    "collapsed": true
   },
   "outputs": [],
   "source": [
    "class AudioFile(object):\n",
    "    chunk = 1024\n",
    "\n",
    "    def __init__(self, file):\n",
    "        \"\"\" Init audio stream \"\"\" \n",
    "        self.wf = wave.open(file, 'rb')\n",
    "        self.p = pyaudio.PyAudio()\n",
    "        self.stream = self.p.open(\n",
    "            format = self.p.get_format_from_width(self.wf.getsampwidth()),\n",
    "            channels = self.wf.getnchannels(),\n",
    "            rate = self.wf.getframerate(),\n",
    "            output = True\n",
    "        )\n",
    "\n",
    "    def play(self):\n",
    "        \"\"\" Play entire file \"\"\"\n",
    "        data = self.wf.readframes(self.chunk)\n",
    "        while data != '':\n",
    "            self.stream.write(data)\n",
    "            data = self.wf.readframes(self.chunk)\n",
    "\n",
    "    def close(self):\n",
    "        \"\"\" Graceful shutdown \"\"\" \n",
    "        self.stream.close()\n",
    "        self.p.terminate()\n",
    "\n",
    "# Usage example for pyaudio\n",
    "a = AudioFile(\"Xe.wav\")\n",
    "a.play()\n",
    "a.close()"
   ]
  },
  {
   "cell_type": "code",
   "execution_count": 86,
   "metadata": {
    "collapsed": false
   },
   "outputs": [],
   "source": [
    "import matplotlib\n",
    "matplotlib.use('TkAgg')\n",
    "\n",
    "from numpy import arange, sin, pi\n",
    "from matplotlib.backends.backend_tkagg import FigureCanvasTkAgg\n",
    "from matplotlib.figure import Figure\n",
    "\n",
    "import sys\n",
    "if sys.version_info[0] < 3:\n",
    "    import Tkinter as Tk\n",
    "else:\n",
    "    import tkinter as Tk\n",
    "\n",
    "\n",
    "def destroy(e):\n",
    "    sys.exit()\n",
    "def tk_lpc(file_name, root):\n",
    "#     root = Tk.Tk()\n",
    "    root.wm_title(\"Embedding in TK\")\n",
    "    \n",
    "    f = Figure(figsize=(5, 4), dpi=100)\n",
    "    a = f.add_subplot(311)\n",
    "    b = f.add_subplot(312)\n",
    "    c = f.add_subplot(313)\n",
    "    \n",
    "    rate, signal = wavfile.read(file_name)\n",
    "    signal = signal.astype('int64')\n",
    "    a.plot(np.arange(len(signal)), signal)\n",
    "    a.set_title('Speech signal')\n",
    "    a.set_xlabel('samples')\n",
    "    a.set_ylabel('magtitude')\n",
    "\n",
    "    energy = energy_in_frame(signal)\n",
    "    b.plot(np.arange(len(energy)), energy)\n",
    "    b.set_title('energy')\n",
    "    b.set_xlabel('samples')\n",
    "    b.set_ylabel('e')\n",
    "\n",
    "    # c.plot(t, zcr)\n",
    "    zcr = zero_crossing(signal)\n",
    "    c.plot(np.arange(len(zcr)), zcr)\n",
    "    c.set_title('zcr')\n",
    "    c.set_xlabel('samples')\n",
    "    c.set_ylabel('zcr')\n",
    "\n",
    "\n",
    "    # a tk.DrawingArea\n",
    "    canvas = FigureCanvasTkAgg(f, master=root)\n",
    "    canvas.show()\n",
    "    canvas.get_tk_widget().pack(side=Tk.TOP, fill=Tk.BOTH, expand=1)\n",
    "\n",
    "    canvas._tkcanvas.pack(side=Tk.TOP, fill=Tk.BOTH, expand=1)\n",
    "\n",
    "    # button = Tk.Button(master=root, text='Quit', command=sys.exit)\n",
    "    button = Tk.Button(master=root, text='Quit', command=root.destroy)\n",
    "    button.pack(side=Tk.BOTTOM)\n",
    "\n",
    "    Tk.mainloop()"
   ]
  },
  {
   "cell_type": "code",
   "execution_count": 89,
   "metadata": {
    "collapsed": false
   },
   "outputs": [],
   "source": [
    "import Tkinter as Tk\n",
    "from tkFileDialog import askopenfilename      \n",
    "\n",
    "root = Tk.Tk()\n",
    "\n",
    "def callback():\n",
    "    file_name= askopenfilename() \n",
    "#     print file_name\n",
    "    tk_lpc(file_name, root)\n",
    "    \n",
    "errmsg = 'Error!'\n",
    "Tk.Button(text='File Open', command=callback).pack(fill=Tk.X)\n",
    "# open_button.pack(fill=X)\n",
    "Tk.mainloop()"
   ]
  },
  {
   "cell_type": "code",
   "execution_count": null,
   "metadata": {
    "collapsed": true
   },
   "outputs": [],
   "source": [
    "from audiolazy.lazy_filters import z, Stream\n",
    "import wave\n",
    "import numpy as np\n",
    "import matplotlib.pyplot as plt\n",
    "from audiolazy.lazy_analysis import window\n",
    "import scipy.io.wavfile as wf\n",
    "from audiolazy.lazy_lpc import acorr\n",
    "from audiolazy.lazy_lpc import lpc"
   ]
  },
  {
   "cell_type": "code",
   "execution_count": null,
   "metadata": {
    "collapsed": true
   },
   "outputs": [],
   "source": [
    "def hamming_one_window(signal):\n",
    "    return window.hamming(len(signal)) * signal"
   ]
  },
  {
   "cell_type": "code",
   "execution_count": 90,
   "metadata": {
    "collapsed": true
   },
   "outputs": [],
   "source": [
    "a = [1,2,3,4,5]"
   ]
  },
  {
   "cell_type": "code",
   "execution_count": 91,
   "metadata": {
    "collapsed": false
   },
   "outputs": [
    {
     "data": {
      "text/plain": [
       "[]"
      ]
     },
     "execution_count": 91,
     "metadata": {},
     "output_type": "execute_result"
    }
   ],
   "source": [
    "a[4:2]"
   ]
  },
  {
   "cell_type": "code",
   "execution_count": null,
   "metadata": {
    "collapsed": true
   },
   "outputs": [],
   "source": []
  }
 ],
 "metadata": {
  "anaconda-cloud": {},
  "kernelspec": {
   "display_name": "Python [default]",
   "language": "python",
   "name": "python2"
  },
  "language_info": {
   "codemirror_mode": {
    "name": "ipython",
    "version": 2
   },
   "file_extension": ".py",
   "mimetype": "text/x-python",
   "name": "python",
   "nbconvert_exporter": "python",
   "pygments_lexer": "ipython2",
   "version": "2.7.12"
  }
 },
 "nbformat": 4,
 "nbformat_minor": 0
}
