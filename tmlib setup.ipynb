{
 "cells": [
  {
   "cell_type": "code",
   "execution_count": 1,
   "metadata": {
    "collapsed": true
   },
   "outputs": [],
   "source": [
    "import docutils"
   ]
  },
  {
   "cell_type": "code",
   "execution_count": 5,
   "metadata": {
    "collapsed": false
   },
   "outputs": [
    {
     "data": {
      "text/plain": [
       "'/home/cuonghn/anaconda2/lib/python2.7/site-packages/docutils/__init__.pyc'"
      ]
     },
     "execution_count": 5,
     "metadata": {},
     "output_type": "execute_result"
    }
   ],
   "source": [
    "docutils.__file__"
   ]
  },
  {
   "cell_type": "code",
   "execution_count": 3,
   "metadata": {
    "collapsed": true
   },
   "outputs": [],
   "source": [
    "import sys"
   ]
  },
  {
   "cell_type": "code",
   "execution_count": 4,
   "metadata": {
    "collapsed": false
   },
   "outputs": [
    {
     "data": {
      "text/plain": [
       "['',\n",
       " '/opt/spark/python',\n",
       " '/opt/spark/python/lib/py4j-0.9-src.zip',\n",
       " '/home/cuonghn/anaconda2/lib/python27.zip',\n",
       " '/home/cuonghn/anaconda2/lib/python2.7',\n",
       " '/home/cuonghn/anaconda2/lib/python2.7/plat-linux2',\n",
       " '/home/cuonghn/anaconda2/lib/python2.7/lib-tk',\n",
       " '/home/cuonghn/anaconda2/lib/python2.7/lib-old',\n",
       " '/home/cuonghn/anaconda2/lib/python2.7/lib-dynload',\n",
       " '/home/cuonghn/.local/lib/python2.7/site-packages',\n",
       " '/home/cuonghn/anaconda2/lib/python2.7/site-packages/Sphinx-1.4.8-py2.7.egg',\n",
       " '/home/cuonghn/anaconda2/lib/python2.7/site-packages/setuptools-20.7.0-py2.7.egg',\n",
       " '/home/cuonghn/anaconda2/lib/python2.7/site-packages',\n",
       " '/home/cuonghn/anaconda2/lib/python2.7/site-packages/cryptography-1.0.2-py2.7-linux-x86_64.egg',\n",
       " '/home/cuonghn/anaconda2/lib/python2.7/site-packages/IPython/extensions',\n",
       " '/home/cuonghn/.ipython']"
      ]
     },
     "execution_count": 4,
     "metadata": {},
     "output_type": "execute_result"
    }
   ],
   "source": [
    "sys.path"
   ]
  },
  {
   "cell_type": "code",
   "execution_count": null,
   "metadata": {
    "collapsed": true
   },
   "outputs": [],
   "source": []
  }
 ],
 "metadata": {
  "kernelspec": {
   "display_name": "Python 2",
   "language": "python",
   "name": "python2"
  },
  "language_info": {
   "codemirror_mode": {
    "name": "ipython",
    "version": 2
   },
   "file_extension": ".py",
   "mimetype": "text/x-python",
   "name": "python",
   "nbconvert_exporter": "python",
   "pygments_lexer": "ipython2",
   "version": "2.7.12"
  }
 },
 "nbformat": 4,
 "nbformat_minor": 0
}
