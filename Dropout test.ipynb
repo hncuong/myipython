{
 "cells": [
  {
   "cell_type": "code",
   "execution_count": 7,
   "metadata": {
    "collapsed": false
   },
   "outputs": [],
   "source": [
    "class test(object):\n",
    "    def __init__(self, a, b):\n",
    "        self._a = a\n",
    "        self._b = b"
   ]
  },
  {
   "cell_type": "code",
   "execution_count": 8,
   "metadata": {
    "collapsed": true
   },
   "outputs": [],
   "source": [
    "o = test(3, 5)"
   ]
  },
  {
   "cell_type": "code",
   "execution_count": 9,
   "metadata": {
    "collapsed": false
   },
   "outputs": [
    {
     "data": {
      "text/plain": [
       "5"
      ]
     },
     "execution_count": 9,
     "metadata": {},
     "output_type": "execute_result"
    }
   ],
   "source": [
    "o._a\n",
    "o._b"
   ]
  },
  {
   "cell_type": "code",
   "execution_count": 10,
   "metadata": {
    "collapsed": true
   },
   "outputs": [],
   "source": [
    "import numpy as n"
   ]
  },
  {
   "cell_type": "code",
   "execution_count": 29,
   "metadata": {
    "collapsed": false
   },
   "outputs": [],
   "source": [
    "a = n.random.rand(10, 10)"
   ]
  },
  {
   "cell_type": "code",
   "execution_count": 30,
   "metadata": {
    "collapsed": false
   },
   "outputs": [
    {
     "data": {
      "text/plain": [
       "array([[ 0.36403673,  0.31432938,  0.10366021,  0.28803053,  0.20481512,\n",
       "         0.99883266,  0.58799934,  0.8599588 ,  0.30009749,  0.68859109],\n",
       "       [ 0.8354738 ,  0.03392913,  0.53873392,  0.75728177,  0.74211336,\n",
       "         0.04652583,  0.3672305 ,  0.16055328,  0.56700767,  0.46419724],\n",
       "       [ 0.90250794,  0.39874391,  0.82732454,  0.06712742,  0.98861866,\n",
       "         0.75515029,  0.5026417 ,  0.46792408,  0.53922631,  0.55712658],\n",
       "       [ 0.4493781 ,  0.254687  ,  0.4041079 ,  0.37258889,  0.65700955,\n",
       "         0.25585722,  0.5376999 ,  0.56522175,  0.38320743,  0.23982382],\n",
       "       [ 0.87934616,  0.47817947,  0.02023665,  0.83617821,  0.06343393,\n",
       "         0.27207344,  0.5981313 ,  0.37618292,  0.01614614,  0.25673569],\n",
       "       [ 0.81477437,  0.10108912,  0.71402746,  0.86859127,  0.53352671,\n",
       "         0.82206657,  0.08706391,  0.52686929,  0.56238675,  0.24894972],\n",
       "       [ 0.48161148,  0.25437042,  0.09068965,  0.76326512,  0.75505032,\n",
       "         0.9088495 ,  0.69219858,  0.94586422,  0.77879985,  0.08009672],\n",
       "       [ 0.01806492,  0.41448847,  0.9106927 ,  0.4911535 ,  0.29728712,\n",
       "         0.17508915,  0.0161932 ,  0.32818819,  0.09761554,  0.36636902],\n",
       "       [ 0.4980897 ,  0.57419287,  0.62478859,  0.97114419,  0.10209228,\n",
       "         0.36800147,  0.54307409,  0.99294837,  0.29643886,  0.35927062],\n",
       "       [ 0.31932546,  0.86090772,  0.39825814,  0.85374511,  0.61037088,\n",
       "         0.2092351 ,  0.64659061,  0.50154245,  0.25202661,  0.90704937]])"
      ]
     },
     "execution_count": 30,
     "metadata": {},
     "output_type": "execute_result"
    }
   ],
   "source": [
    "a"
   ]
  },
  {
   "cell_type": "code",
   "execution_count": 31,
   "metadata": {
    "collapsed": true
   },
   "outputs": [],
   "source": [
    "a_norm = a.sum(axis = 1)"
   ]
  },
  {
   "cell_type": "code",
   "execution_count": 32,
   "metadata": {
    "collapsed": false
   },
   "outputs": [
    {
     "data": {
      "text/plain": [
       "array([ 4.71035135,  4.51304652,  6.00639143,  4.11958156,  3.79664391,\n",
       "        5.27934516,  5.75079587,  3.1151418 ,  5.33004105,  5.55905145])"
      ]
     },
     "execution_count": 32,
     "metadata": {},
     "output_type": "execute_result"
    }
   ],
   "source": [
    "a_norm"
   ]
  },
  {
   "cell_type": "code",
   "execution_count": 33,
   "metadata": {
    "collapsed": true
   },
   "outputs": [],
   "source": [
    "a = a / a_norm[:, n.newaxis]"
   ]
  },
  {
   "cell_type": "code",
   "execution_count": 26,
   "metadata": {
    "collapsed": false
   },
   "outputs": [
    {
     "data": {
      "text/plain": [
       "array([[ 0.2260233 ,  0.02781399,  0.01411422,  0.0909101 ,  0.05883769,\n",
       "         0.10806298,  0.03376653,  0.22123536,  0.06077574,  0.1584601 ],\n",
       "       [ 0.1114347 ,  0.14416164,  0.16034378,  0.06465728,  0.08461817,\n",
       "         0.03835179,  0.02329676,  0.13564101,  0.12695902,  0.11053584],\n",
       "       [ 0.03265032,  0.12961107,  0.14186305,  0.14797485,  0.10130295,\n",
       "         0.16366445,  0.01645009,  0.14632158,  0.06718692,  0.05297472],\n",
       "       [ 0.1496753 ,  0.11906936,  0.0167699 ,  0.08079583,  0.06352465,\n",
       "         0.00088853,  0.12808156,  0.15928026,  0.11166222,  0.17025239],\n",
       "       [ 0.19978269,  0.00335211,  0.06785957,  0.17185571,  0.11948012,\n",
       "         0.0779632 ,  0.07418808,  0.07550673,  0.07098251,  0.13902928],\n",
       "       [ 0.13694187,  0.15417256,  0.07512185,  0.06017235,  0.06019686,\n",
       "         0.08158617,  0.08587615,  0.15027903,  0.14372667,  0.0519265 ],\n",
       "       [ 0.11634793,  0.08424815,  0.19531412,  0.14294976,  0.00758085,\n",
       "         0.21190903,  0.0307826 ,  0.11943581,  0.06898622,  0.02244554],\n",
       "       [ 0.02781631,  0.13952959,  0.09050139,  0.02950293,  0.16907202,\n",
       "         0.06564591,  0.16323539,  0.1305739 ,  0.15373535,  0.03038721],\n",
       "       [ 0.1021531 ,  0.1511447 ,  0.10381771,  0.02141609,  0.1757797 ,\n",
       "         0.15525837,  0.137096  ,  0.04810671,  0.08811527,  0.01711235],\n",
       "       [ 0.02834341,  0.10221847,  0.01745274,  0.17256343,  0.07793045,\n",
       "         0.00739251,  0.30132348,  0.17018822,  0.11261457,  0.00997271]])"
      ]
     },
     "execution_count": 26,
     "metadata": {},
     "output_type": "execute_result"
    }
   ],
   "source": [
    "aa"
   ]
  },
  {
   "cell_type": "code",
   "execution_count": 27,
   "metadata": {
    "collapsed": true
   },
   "outputs": [],
   "source": [
    "aa_norm = aa.sum(axis = 1)"
   ]
  },
  {
   "cell_type": "code",
   "execution_count": 28,
   "metadata": {
    "collapsed": false
   },
   "outputs": [
    {
     "data": {
      "text/plain": [
       "array([ 1.,  1.,  1.,  1.,  1.,  1.,  1.,  1.,  1.,  1.])"
      ]
     },
     "execution_count": 28,
     "metadata": {},
     "output_type": "execute_result"
    }
   ],
   "source": [
    "aa_norm"
   ]
  },
  {
   "cell_type": "code",
   "execution_count": 34,
   "metadata": {
    "collapsed": true
   },
   "outputs": [],
   "source": [
    "b = a * 0.3 + aa * 0.7"
   ]
  },
  {
   "cell_type": "code",
   "execution_count": 35,
   "metadata": {
    "collapsed": false
   },
   "outputs": [
    {
     "data": {
      "text/plain": [
       "array([[ 0.18140163,  0.03948928,  0.01648202,  0.0819816 ,  0.05423096,\n",
       "         0.13925925,  0.06108596,  0.20963511,  0.06165608,  0.1547781 ],\n",
       "       [ 0.13354152,  0.10316855,  0.14805241,  0.0955996 ,  0.10856392,\n",
       "         0.02993901,  0.04071899,  0.10562132,  0.12656255,  0.10823211],\n",
       "       [ 0.0679326 ,  0.11064373,  0.14062634,  0.10693519,  0.1202904 ,\n",
       "         0.15228245,  0.0366204 ,  0.12579642,  0.07396347,  0.06490899],\n",
       "       [ 0.13749774,  0.10189561,  0.04116725,  0.0836901 ,  0.09231262,\n",
       "         0.01925425,  0.12881397,  0.15265728,  0.10606984,  0.13664134],\n",
       "       [ 0.20933132,  0.04013086,  0.04910074,  0.18637142,  0.08864845,\n",
       "         0.07607271,  0.09919429,  0.08257962,  0.05096358,  0.11760702],\n",
       "       [ 0.14215905,  0.11366521,  0.09316007,  0.09147854,  0.07245558,\n",
       "         0.10382444,  0.06506073,  0.13513479,  0.13256643,  0.05049518],\n",
       "       [ 0.10656763,  0.07224337,  0.14145086,  0.13988185,  0.04469507,\n",
       "         0.19574799,  0.05765753,  0.13294768,  0.08891776,  0.01989026],\n",
       "       [ 0.02121114,  0.13758753,  0.15105414,  0.067952  ,  0.1469803 ,\n",
       "         0.06281389,  0.11582424,  0.1230075 ,  0.11701549,  0.05655378],\n",
       "       [ 0.09954202,  0.13811959,  0.10783846,  0.06965187,  0.12879203,\n",
       "         0.12939373,  0.12653399,  0.08956254,  0.07836567,  0.0322001 ],\n",
       "       [ 0.03707312,  0.11801271,  0.03370934,  0.16686764,  0.08749062,\n",
       "         0.01646635,  0.24582037,  0.14619801,  0.09243108,  0.05593076]])"
      ]
     },
     "execution_count": 35,
     "metadata": {},
     "output_type": "execute_result"
    }
   ],
   "source": [
    "b"
   ]
  },
  {
   "cell_type": "code",
   "execution_count": 36,
   "metadata": {
    "collapsed": true
   },
   "outputs": [],
   "source": [
    "b_n = b.sum(axis = 1)"
   ]
  },
  {
   "cell_type": "code",
   "execution_count": 37,
   "metadata": {
    "collapsed": false
   },
   "outputs": [
    {
     "data": {
      "text/plain": [
       "array([ 1.,  1.,  1.,  1.,  1.,  1.,  1.,  1.,  1.,  1.])"
      ]
     },
     "execution_count": 37,
     "metadata": {},
     "output_type": "execute_result"
    }
   ],
   "source": [
    "b_n"
   ]
  },
  {
   "cell_type": "code",
   "execution_count": 50,
   "metadata": {
    "collapsed": true
   },
   "outputs": [],
   "source": [
    "import numpy as np\n",
    "a = np.random.rand(10,6)"
   ]
  },
  {
   "cell_type": "code",
   "execution_count": 53,
   "metadata": {
    "collapsed": false
   },
   "outputs": [
    {
     "data": {
      "text/plain": [
       "array([[ 0.07748306,  0.07820119,  0.2005959 ],\n",
       "       [ 0.45575163,  0.33789766,  0.95553582],\n",
       "       [ 0.2151068 ,  0.22443878,  0.61328906],\n",
       "       [ 0.47905037,  0.01993848,  0.16143269]])"
      ]
     },
     "execution_count": 53,
     "metadata": {},
     "output_type": "execute_result"
    }
   ],
   "source": [
    "b = [1,2,3,7]\n",
    "c = a[b,:]\n",
    "c\n",
    "d = [1,2,4]\n",
    "e = c[:, d]\n",
    "e"
   ]
  },
  {
   "cell_type": "code",
   "execution_count": 48,
   "metadata": {
    "collapsed": false
   },
   "outputs": [],
   "source": [
    "c = np.dot(a,b)"
   ]
  },
  {
   "cell_type": "code",
   "execution_count": 49,
   "metadata": {
    "collapsed": false
   },
   "outputs": [
    {
     "data": {
      "text/plain": [
       "array([[ 0.33038714],\n",
       "       [ 0.50194201],\n",
       "       [ 0.61187695],\n",
       "       [ 0.96729556],\n",
       "       [ 0.30959315]])"
      ]
     },
     "execution_count": 49,
     "metadata": {},
     "output_type": "execute_result"
    }
   ],
   "source": [
    "c"
   ]
  },
  {
   "cell_type": "code",
   "execution_count": 12,
   "metadata": {
    "collapsed": true
   },
   "outputs": [],
   "source": [
    "c = c[:,np.newaxis]"
   ]
  },
  {
   "cell_type": "code",
   "execution_count": 13,
   "metadata": {
    "collapsed": false
   },
   "outputs": [
    {
     "data": {
      "text/plain": [
       "array([[ 2.87782881],\n",
       "       [ 2.28121865]])"
      ]
     },
     "execution_count": 13,
     "metadata": {},
     "output_type": "execute_result"
    }
   ],
   "source": [
    "c"
   ]
  },
  {
   "cell_type": "code",
   "execution_count": 2,
   "metadata": {
    "collapsed": false
   },
   "outputs": [],
   "source": [
    "import numpy as np\n",
    "a = np.random.rand(10,10)"
   ]
  },
  {
   "cell_type": "code",
   "execution_count": 11,
   "metadata": {
    "collapsed": false
   },
   "outputs": [],
   "source": [
    "m = [1,2,5,6]\n",
    "n = [1,8,9]\n",
    "nn = [[x] for x in n]"
   ]
  },
  {
   "cell_type": "code",
   "execution_count": 15,
   "metadata": {
    "collapsed": true
   },
   "outputs": [],
   "source": [
    "b = a[m, :][:, n]"
   ]
  },
  {
   "cell_type": "code",
   "execution_count": 7,
   "metadata": {
    "collapsed": false
   },
   "outputs": [],
   "source": [
    "a[m, :][:, n] = a[m, :][:, n] * 2"
   ]
  },
  {
   "cell_type": "code",
   "execution_count": 16,
   "metadata": {
    "collapsed": false
   },
   "outputs": [
    {
     "data": {
      "text/plain": [
       "array([[ 0.32674012,  0.26369447,  0.61507028],\n",
       "       [ 0.69113569,  0.67156418,  0.61384009],\n",
       "       [ 0.53156392,  0.56861522,  0.50772986],\n",
       "       [ 0.18602557,  0.23371377,  0.34208147]])"
      ]
     },
     "execution_count": 16,
     "metadata": {},
     "output_type": "execute_result"
    }
   ],
   "source": [
    "b"
   ]
  },
  {
   "cell_type": "code",
   "execution_count": 17,
   "metadata": {
    "collapsed": false
   },
   "outputs": [
    {
     "data": {
      "text/plain": [
       "0.56861521729450115"
      ]
     },
     "execution_count": 17,
     "metadata": {},
     "output_type": "execute_result"
    }
   ],
   "source": [
    "b[2][1]"
   ]
  },
  {
   "cell_type": "code",
   "execution_count": 19,
   "metadata": {
    "collapsed": false
   },
   "outputs": [],
   "source": [
    "a = np.random.randint(5, size=(3,5))"
   ]
  },
  {
   "cell_type": "code",
   "execution_count": 20,
   "metadata": {
    "collapsed": false
   },
   "outputs": [
    {
     "data": {
      "text/plain": [
       "array([[0, 2, 4, 0, 2],\n",
       "       [4, 2, 4, 1, 1],\n",
       "       [4, 4, 1, 1, 3]])"
      ]
     },
     "execution_count": 20,
     "metadata": {},
     "output_type": "execute_result"
    }
   ],
   "source": [
    "a"
   ]
  },
  {
   "cell_type": "code",
   "execution_count": 23,
   "metadata": {
    "collapsed": false
   },
   "outputs": [
    {
     "data": {
      "text/plain": [
       "array([8, 8, 9, 2, 6])"
      ]
     },
     "execution_count": 23,
     "metadata": {},
     "output_type": "execute_result"
    }
   ],
   "source": [
    "a.sum(axis=0)"
   ]
  },
  {
   "cell_type": "code",
   "execution_count": 97,
   "metadata": {
    "collapsed": false
   },
   "outputs": [
    {
     "name": "stdout",
     "output_type": "stream",
     "text": [
      "1 loops, best of 3: 297 ms per loop\n"
     ]
    }
   ],
   "source": [
    "%%timeit\n",
    "a = np.random.rand(100,100000)\n",
    "b = np.random.rand(100,100000)"
   ]
  },
  {
   "cell_type": "code",
   "execution_count": 105,
   "metadata": {
    "collapsed": false
   },
   "outputs": [],
   "source": [
    "m = np.random.binomial(1, 0.5, 100000)\n",
    "n = [x for x in range(100000) if m[x] == 1]"
   ]
  },
  {
   "cell_type": "code",
   "execution_count": 98,
   "metadata": {
    "collapsed": false
   },
   "outputs": [
    {
     "name": "stdout",
     "output_type": "stream",
     "text": [
      "1 loops, best of 3: 424 ms per loop\n"
     ]
    }
   ],
   "source": [
    "%%timeit\n",
    "a = np.random.rand(100,100000)\n",
    "b = np.random.rand(100,100000)\n",
    "a = a * 0.7  + b * 0.3"
   ]
  },
  {
   "cell_type": "code",
   "execution_count": 106,
   "metadata": {
    "collapsed": false
   },
   "outputs": [
    {
     "name": "stdout",
     "output_type": "stream",
     "text": [
      "10 loops, best of 3: 137 ms per loop\n"
     ]
    }
   ],
   "source": [
    "%%timeit\n",
    "a[:,n] = a[:,n] * 0.7 + b[:,n] * 0.3"
   ]
  },
  {
   "cell_type": "code",
   "execution_count": 87,
   "metadata": {
    "collapsed": false
   },
   "outputs": [
    {
     "data": {
      "text/plain": [
       "10066"
      ]
     },
     "execution_count": 87,
     "metadata": {},
     "output_type": "execute_result"
    }
   ],
   "source": [
    "len(n)"
   ]
  },
  {
   "cell_type": "code",
   "execution_count": 45,
   "metadata": {
    "collapsed": false
   },
   "outputs": [
    {
     "data": {
      "text/plain": [
       "506"
      ]
     },
     "execution_count": 45,
     "metadata": {},
     "output_type": "execute_result"
    }
   ],
   "source": [
    "len(e)"
   ]
  },
  {
   "cell_type": "code",
   "execution_count": 1,
   "metadata": {
    "collapsed": true
   },
   "outputs": [],
   "source": [
    "import numpy as np\n",
    "a = np.random.rand(10,10)\n",
    "b = np.random.rand(10,10)"
   ]
  },
  {
   "cell_type": "code",
   "execution_count": 2,
   "metadata": {
    "collapsed": true
   },
   "outputs": [],
   "source": [
    "lt = [1,2,4,7,9]"
   ]
  },
  {
   "cell_type": "code",
   "execution_count": 5,
   "metadata": {
    "collapsed": true
   },
   "outputs": [],
   "source": [
    "a_norm = a.sum(axis=1)"
   ]
  },
  {
   "cell_type": "code",
   "execution_count": 4,
   "metadata": {
    "collapsed": true
   },
   "outputs": [],
   "source": [
    "a /= a_norm[:, np.newaxis]"
   ]
  },
  {
   "cell_type": "code",
   "execution_count": 6,
   "metadata": {
    "collapsed": false
   },
   "outputs": [
    {
     "data": {
      "text/plain": [
       "array([ 1.,  1.,  1.,  1.,  1.,  1.,  1.,  1.,  1.,  1.])"
      ]
     },
     "execution_count": 6,
     "metadata": {},
     "output_type": "execute_result"
    }
   ],
   "source": [
    "a_norm"
   ]
  },
  {
   "cell_type": "code",
   "execution_count": 7,
   "metadata": {
    "collapsed": true
   },
   "outputs": [],
   "source": [
    "a_t = a[:, lt]\n",
    "a_t_sum = a_t.sum(axis=1)"
   ]
  },
  {
   "cell_type": "code",
   "execution_count": 8,
   "metadata": {
    "collapsed": true
   },
   "outputs": [],
   "source": [
    "b_t = b[:, lt]\n",
    "b_t_norm = b_t.sum(axis=1)\n",
    "b_t /= b_t_norm[:,np.newaxis]"
   ]
  },
  {
   "cell_type": "code",
   "execution_count": 10,
   "metadata": {
    "collapsed": false
   },
   "outputs": [],
   "source": [
    "b_t *= a_t_sum[:, np.newaxis]"
   ]
  },
  {
   "cell_type": "code",
   "execution_count": 11,
   "metadata": {
    "collapsed": true
   },
   "outputs": [],
   "source": [
    "a[:, lt] = a_t * 0.7 + b_t * 0.3"
   ]
  },
  {
   "cell_type": "code",
   "execution_count": 12,
   "metadata": {
    "collapsed": true
   },
   "outputs": [],
   "source": [
    "a_norm = a.sum(axis=1)"
   ]
  },
  {
   "cell_type": "code",
   "execution_count": 13,
   "metadata": {
    "collapsed": false
   },
   "outputs": [
    {
     "data": {
      "text/plain": [
       "array([ 1.,  1.,  1.,  1.,  1.,  1.,  1.,  1.,  1.,  1.])"
      ]
     },
     "execution_count": 13,
     "metadata": {},
     "output_type": "execute_result"
    }
   ],
   "source": [
    "a_norm"
   ]
  },
  {
   "cell_type": "code",
   "execution_count": 15,
   "metadata": {
    "collapsed": false
   },
   "outputs": [
    {
     "data": {
      "text/plain": [
       "list"
      ]
     },
     "execution_count": 15,
     "metadata": {},
     "output_type": "execute_result"
    }
   ],
   "source": [
    "a = list()\n",
    "type(a)"
   ]
  },
  {
   "cell_type": "code",
   "execution_count": null,
   "metadata": {
    "collapsed": true
   },
   "outputs": [],
   "source": []
  }
 ],
 "metadata": {
  "kernelspec": {
   "display_name": "Python 2",
   "language": "python",
   "name": "python2"
  },
  "language_info": {
   "codemirror_mode": {
    "name": "ipython",
    "version": 2
   },
   "file_extension": ".py",
   "mimetype": "text/x-python",
   "name": "python",
   "nbconvert_exporter": "python",
   "pygments_lexer": "ipython2",
   "version": "2.7.12"
  }
 },
 "nbformat": 4,
 "nbformat_minor": 0
}
