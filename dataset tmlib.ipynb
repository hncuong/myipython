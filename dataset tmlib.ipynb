{
 "cells": [
  {
   "cell_type": "code",
   "execution_count": null,
   "metadata": {
    "collapsed": true
   },
   "outputs": [],
   "source": [
    "import os\n",
    "import os.path"
   ]
  },
  {
   "cell_type": "code",
   "execution_count": null,
   "metadata": {
    "collapsed": false
   },
   "outputs": [],
   "source": [
    "os.path.join(os.sep, 'home', 'user', 'work')"
   ]
  },
  {
   "cell_type": "code",
   "execution_count": null,
   "metadata": {
    "collapsed": false
   },
   "outputs": [],
   "source": [
    "os.path.split('/usr/bin/python')"
   ]
  },
  {
   "cell_type": "code",
   "execution_count": null,
   "metadata": {
    "collapsed": true
   },
   "outputs": [],
   "source": [
    "path = 'nyt_50k.txt'"
   ]
  },
  {
   "cell_type": "code",
   "execution_count": null,
   "metadata": {
    "collapsed": false
   },
   "outputs": [],
   "source": [
    "%%timeit\n",
    "f = open(path, 'r')\n",
    "lines = f.readlines()\n",
    "num = len(lines)"
   ]
  },
  {
   "cell_type": "code",
   "execution_count": null,
   "metadata": {
    "collapsed": false
   },
   "outputs": [],
   "source": [
    "i=100\n",
    "with open(path)as f:\n",
    "    \n",
    "num = i+1\n",
    "print num\n",
    "a = num"
   ]
  },
  {
   "cell_type": "code",
   "execution_count": null,
   "metadata": {
    "collapsed": false
   },
   "outputs": [],
   "source": [
    "import numpy as np"
   ]
  },
  {
   "cell_type": "code",
   "execution_count": null,
   "metadata": {
    "collapsed": true
   },
   "outputs": [],
   "source": [
    "a = np.random.rand(10,20)"
   ]
  },
  {
   "cell_type": "code",
   "execution_count": null,
   "metadata": {
    "collapsed": false
   },
   "outputs": [],
   "source": [
    "b = a[[1,2,2],:]"
   ]
  },
  {
   "cell_type": "code",
   "execution_count": null,
   "metadata": {
    "collapsed": true
   },
   "outputs": [],
   "source": [
    "c = np.argpartition(a, 3)"
   ]
  },
  {
   "cell_type": "code",
   "execution_count": null,
   "metadata": {
    "collapsed": true
   },
   "outputs": [],
   "source": [
    "d = np.argpartition(a, -4, axis=0)[-4:]"
   ]
  },
  {
   "cell_type": "code",
   "execution_count": 6,
   "metadata": {
    "collapsed": false
   },
   "outputs": [
    {
     "name": "stdout",
     "output_type": "stream",
     "text": [
      "{'MDMSESSION': 'default', 'BYOBU_TTY': '/dev/pts/7', 'LESS': '-R', 'LC_CTYPE': 'en_US.UTF-8', 'MDM_LANG': 'en_US.UTF-8', 'ANACONDA': '/home/cuonghn/anaconda2', 'LC_PAPER': 'en_US.UTF-8', 'SHELL': '/bin/zsh', 'XDG_DATA_DIRS': '/usr/share/default:/usr/share/gnome:/usr/local/share/:/usr/share/:/usr/share/mdm/', 'MANDATORY_PATH': '/usr/share/gconf/default.mandatory.path', 'BYOBU_RUN_DIR': '/dev/shm/byobu-cuonghn-1RTlsZgU', 'TEXTDOMAIN': 'im-config', 'XMODIFIERS': '@im=ibus', 'JAVA_HOME': '/opt/java/jdk1.8.0_91', 'XDG_RUNTIME_DIR': '/run/user/1000', 'JPY_PARENT_PID': '18648', 'LC_ADDRESS': 'en_US.UTF-8', 'PYTHONPATH': '/opt/spark/python:/opt/spark/python/lib/py4j-0.9-src.zip', 'BYOBU_LIGHT': '#EEEEEE', 'BYOBU_DATE': '%Y-%m-%d ', 'XDG_SESSION_ID': 'c1', 'DBUS_SESSION_BUS_ADDRESS': 'unix:abstract=/tmp/dbus-jxJ2eyGLli,guid=ba6b056459e29c9a4b74903e5815674b', 'DEFAULTS_PATH': '/usr/share/gconf/default.default.path', 'DESKTOP_SESSION': 'default', 'LC_NAME': 'en_US.UTF-8', 'LS_COLORS': 'rs=0:di=01;34:ln=01;36:mh=00:pi=40;33:so=01;35:do=01;35:bd=40;33;01:cd=40;33;01:or=40;31;01:su=37;41:sg=30;43:ca=30;41:tw=30;42:ow=34;42:st=37;44:ex=01;32:*.tar=01;31:*.tgz=01;31:*.arj=01;31:*.taz=01;31:*.lzh=01;31:*.lzma=01;31:*.tlz=01;31:*.txz=01;31:*.zip=01;31:*.z=01;31:*.Z=01;31:*.dz=01;31:*.gz=01;31:*.lz=01;31:*.xz=01;31:*.bz2=01;31:*.bz=01;31:*.tbz=01;31:*.tbz2=01;31:*.tz=01;31:*.deb=01;31:*.rpm=01;31:*.jar=01;31:*.war=01;31:*.ear=01;31:*.sar=01;31:*.rar=01;31:*.ace=01;31:*.zoo=01;31:*.cpio=01;31:*.7z=01;31:*.rz=01;31:*.jpg=01;35:*.jpeg=01;35:*.gif=01;35:*.bmp=01;35:*.pbm=01;35:*.pgm=01;35:*.ppm=01;35:*.tga=01;35:*.xbm=01;35:*.xpm=01;35:*.tif=01;35:*.tiff=01;35:*.png=01;35:*.svg=01;35:*.svgz=01;35:*.mng=01;35:*.pcx=01;35:*.mov=01;35:*.mpg=01;35:*.mpeg=01;35:*.m2v=01;35:*.mkv=01;35:*.webm=01;35:*.ogm=01;35:*.mp4=01;35:*.m4v=01;35:*.mp4v=01;35:*.vob=01;35:*.qt=01;35:*.nuv=01;35:*.wmv=01;35:*.asf=01;35:*.rm=01;35:*.rmvb=01;35:*.flc=01;35:*.avi=01;35:*.fli=01;35:*.flv=01;35:*.gl=01;35:*.dl=01;35:*.xcf=01;35:*.xwd=01;35:*.yuv=01;35:*.cgm=01;35:*.emf=01;35:*.axv=01;35:*.anx=01;35:*.ogv=01;35:*.ogx=01;35:*.aac=00;36:*.au=00;36:*.flac=00;36:*.mid=00;36:*.midi=00;36:*.mka=00;36:*.mp3=00;36:*.mpc=00;36:*.ogg=00;36:*.ra=00;36:*.wav=00;36:*.axa=00;36:*.oga=00;36:*.spx=00;36:*.xspf=00;36:', 'LC_NUMERIC': 'en_US.UTF-8', 'GNOME_DESKTOP_SESSION_ID': 'this-is-deprecated', 'BYOBU_WINDOW_NAME': '-', 'XDG_CURRENT_DESKTOP': 'X-Cinnamon', 'SCALA_HOME': '/usr/local/share/scala', 'USER': 'cuonghn', 'XDG_VTNR': '8', 'XAUTHORITY': '/home/cuonghn/.Xauthority', 'SESSION_MANAGER': 'local/cuonghn-mint:@/tmp/.ICE-unix/1947,unix/cuonghn-mint:/tmp/.ICE-unix/1947', 'LC_MEASUREMENT': 'en_US.UTF-8', 'CLUTTER_IM_MODULE': 'xim', 'WINDOWID': '71303176', 'GPG_AGENT_INFO': '/run/user/1000/keyring-smnx3p/gpg:0:1', 'XDG_SESSION_DESKTOP': 'default', 'BYOBU_DARK': '#333333', 'TMUX': '/tmp/tmux-1000/default,11108,1', 'GDMSESSION': 'default', 'BYOBU_PREFIX': '/usr', 'BYOBU_ULIMIT': 'ulimit', 'LC_IDENTIFICATION': 'en_US.UTF-8', 'XDG_CONFIG_DIRS': '/etc/xdg/xdg-default:/etc/xdg', 'BYOBU_TIME': '%H:%M:%S', 'BYOBU_DISTRO': 'Ubuntu', 'BYOBU_READLINK': 'readlink', 'BYOBU_HIGHLIGHT': '#DD4814', 'COLORTERM': 'gnome-terminal', 'LC_TIME': 'en_US.UTF-8', 'PAGER': 'cat', 'QT4_IM_MODULE': 'xim', 'GJS_DEBUG_OUTPUT': 'stderr', 'HOME': '/home/cuonghn', 'DISPLAY': ':0', 'LANG': 'en_US.UTF-8', 'LC_MONETARY': 'en_US.UTF-8', 'BYOBU_BACKEND': 'tmux', 'IBUS_ENABLE_SYNC_MODE': '1', '_': '/home/cuonghn/anaconda2/bin/jupyter', 'USERNAME': 'cuonghn', 'GDM_XSERVER_LOCATION': 'local', 'GTK_IM_MODULE': 'xim', 'CINNAMON_VERSION': '2.2.16', 'VTE_VERSION': '3409', 'GIT_PAGER': 'cat', 'BYOBU_PAGER': 'sensible-pager', 'GNOME_KEYRING_PID': '1871', 'MDM_XSERVER_LOCATION': 'local', 'PAPERSIZE': 'a4', 'BYOBU_CHARMAP': 'UTF-8', 'BYOBU_CONFIG_DIR': '/home/cuonghn/.byobu', 'TMUX_PANE': '%2', 'SPARK_HOME': '/opt/spark', 'BYOBU_SED': 'sed', 'QT_IM_MODULE': 'ibus', 'LOGNAME': 'cuonghn', 'XDG_SEAT': 'seat0', 'GNOME_KEYRING_CONTROL': '/run/user/1000/keyring-smnx3p', 'PATH': '/home/cuonghn/bin:/usr/local/bin:/home/cuonghn/anaconda2/bin:/usr/local/share/scala/bin:/opt/maven/bin:/opt/java/jdk1.8.0_91/bin:/home/cuonghn/Program/mpich-install/bin:/usr/local/bin:/home/cuonghn/bin:/usr/local/sbin:/usr/local/bin:/usr/sbin:/usr/bin:/sbin:/bin:/usr/games:/usr/local/games:/home/cuonghn/anaconda2/bin:/usr/local/share/scala/bin:/opt/maven/bin:/opt/java/jdk1.8.0_91/bin', 'ZSH': '/home/cuonghn/.oh-my-zsh', 'SSH_AGENT_PID': '2032', 'TERM': 'xterm-color', 'XDG_SESSION_COOKIE': '806d76874b29fb0e36824aef5659d5ff-1477797706.352841-1069713278', 'WINDOWPATH': '8', 'SSH_AUTH_SOCK': '/home/cuonghn/.byobu/.ssh-agent', 'TEXTDOMAINDIR': '/usr/share/locale/', 'BYOBU_ACCENT': '#75507B', 'LSCOLORS': 'Gxfxcxdxbxegedabagacad', 'OLDPWD': '/home/cuonghn/workspace/python', 'LC_TELEPHONE': 'en_US.UTF-8', 'CLICOLOR': '1', 'SHLVL': '1', 'PWD': '/home/cuonghn/workspace/python/ipython', 'BYOBU_PYTHON': 'python3', 'GJS_DEBUG_TOPICS': 'JS ERROR;JS LOG'}\n"
     ]
    }
   ],
   "source": [
    "import os\n",
    "print os.environ"
   ]
  },
  {
   "cell_type": "code",
   "execution_count": 8,
   "metadata": {
    "collapsed": false
   },
   "outputs": [
    {
     "name": "stdout",
     "output_type": "stream",
     "text": [
      "/home/cuonghn/anaconda2\n"
     ]
    }
   ],
   "source": [
    "import sys\n",
    "print sys.prefix"
   ]
  },
  {
   "cell_type": "code",
   "execution_count": null,
   "metadata": {
    "collapsed": true
   },
   "outputs": [],
   "source": []
  }
 ],
 "metadata": {
  "kernelspec": {
   "display_name": "Python 2",
   "language": "python",
   "name": "python2"
  },
  "language_info": {
   "codemirror_mode": {
    "name": "ipython",
    "version": 2
   },
   "file_extension": ".py",
   "mimetype": "text/x-python",
   "name": "python",
   "nbconvert_exporter": "python",
   "pygments_lexer": "ipython2",
   "version": "2.7.12"
  }
 },
 "nbformat": 4,
 "nbformat_minor": 0
}
