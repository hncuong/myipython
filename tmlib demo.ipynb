{
 "cells": [
  {
   "cell_type": "code",
   "execution_count": 2,
   "metadata": {
    "collapsed": false
   },
   "outputs": [
    {
     "ename": "ImportError",
     "evalue": "No module named tmlib",
     "output_type": "error",
     "traceback": [
      "\u001b[1;31m---------------------------------------------------------------------------\u001b[0m",
      "\u001b[1;31mImportError\u001b[0m                               Traceback (most recent call last)",
      "\u001b[1;32m<ipython-input-2-f3c5ab6cf3b4>\u001b[0m in \u001b[0;36m<module>\u001b[1;34m()\u001b[0m\n\u001b[1;32m----> 1\u001b[1;33m \u001b[1;32mimport\u001b[0m \u001b[0mtmlib\u001b[0m\u001b[1;33m\u001b[0m\u001b[0m\n\u001b[0m",
      "\u001b[1;31mImportError\u001b[0m: No module named tmlib"
     ]
    }
   ],
   "source": [
    "import tmlib"
   ]
  },
  {
   "cell_type": "code",
   "execution_count": 1,
   "metadata": {
    "collapsed": false
   },
   "outputs": [
    {
     "data": {
      "text/plain": [
       "['',\n",
       " '/opt/spark/python',\n",
       " '/opt/spark/python/lib/py4j-0.9-src.zip',\n",
       " '/home/cuonghn/anaconda2/lib/python27.zip',\n",
       " '/home/cuonghn/anaconda2/lib/python2.7',\n",
       " '/home/cuonghn/anaconda2/lib/python2.7/plat-linux2',\n",
       " '/home/cuonghn/anaconda2/lib/python2.7/lib-tk',\n",
       " '/home/cuonghn/anaconda2/lib/python2.7/lib-old',\n",
       " '/home/cuonghn/anaconda2/lib/python2.7/lib-dynload',\n",
       " '/home/cuonghn/.local/lib/python2.7/site-packages',\n",
       " '/home/cuonghn/anaconda2/lib/python2.7/site-packages/Sphinx-1.4.8-py2.7.egg',\n",
       " '/home/cuonghn/anaconda2/lib/python2.7/site-packages/setuptools-20.7.0-py2.7.egg',\n",
       " '/home/cuonghn/anaconda2/lib/python2.7/site-packages',\n",
       " '/home/cuonghn/anaconda2/lib/python2.7/site-packages/cryptography-1.0.2-py2.7-linux-x86_64.egg',\n",
       " '/home/cuonghn/anaconda2/lib/python2.7/site-packages/IPython/extensions',\n",
       " '/home/cuonghn/.ipython']"
      ]
     },
     "execution_count": 1,
     "metadata": {},
     "output_type": "execute_result"
    }
   ],
   "source": [
    "import sys\n",
    "sys.path"
   ]
  },
  {
   "cell_type": "markdown",
   "metadata": {
    "collapsed": true
   },
   "source": [
    "DATA LOADING"
   ]
  },
  {
   "cell_type": "code",
   "execution_count": null,
   "metadata": {
    "collapsed": true
   },
   "outputs": [],
   "source": []
  }
 ],
 "metadata": {
  "kernelspec": {
   "display_name": "Python 2",
   "language": "python",
   "name": "python2"
  },
  "language_info": {
   "codemirror_mode": {
    "name": "ipython",
    "version": 2
   },
   "file_extension": ".py",
   "mimetype": "text/x-python",
   "name": "python",
   "nbconvert_exporter": "python",
   "pygments_lexer": "ipython2",
   "version": "2.7.12"
  }
 },
 "nbformat": 4,
 "nbformat_minor": 0
}
