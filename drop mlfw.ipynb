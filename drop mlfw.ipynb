{
 "cells": [
  {
   "cell_type": "code",
   "execution_count": 1,
   "metadata": {
    "collapsed": true
   },
   "outputs": [],
   "source": [
    "import numpy as np"
   ]
  },
  {
   "cell_type": "code",
   "execution_count": 79,
   "metadata": {
    "collapsed": true
   },
   "outputs": [],
   "source": [
    "K = 6\n",
    "V = 10"
   ]
  },
  {
   "cell_type": "code",
   "execution_count": 156,
   "metadata": {
    "collapsed": false
   },
   "outputs": [],
   "source": [
    "a = np.random.rand(K,V)"
   ]
  },
  {
   "cell_type": "code",
   "execution_count": 157,
   "metadata": {
    "collapsed": true
   },
   "outputs": [],
   "source": [
    "a_nor = a.sum(axis=1)\n",
    "a /= a_nor[:, np.newaxis]"
   ]
  },
  {
   "cell_type": "code",
   "execution_count": 127,
   "metadata": {
    "collapsed": false
   },
   "outputs": [],
   "source": [
    "b = np.zeros((K, V))"
   ]
  },
  {
   "cell_type": "code",
   "execution_count": 128,
   "metadata": {
    "collapsed": true
   },
   "outputs": [],
   "source": [
    "c = np.random.binomial(1, 0.4, (K, V))"
   ]
  },
  {
   "cell_type": "code",
   "execution_count": 129,
   "metadata": {
    "collapsed": true
   },
   "outputs": [],
   "source": [
    "d = np.random.binomial(1, 0.4, V)"
   ]
  },
  {
   "cell_type": "code",
   "execution_count": 130,
   "metadata": {
    "collapsed": true
   },
   "outputs": [],
   "source": [
    "e = np.empty((K, V))"
   ]
  },
  {
   "cell_type": "code",
   "execution_count": 131,
   "metadata": {
    "collapsed": false
   },
   "outputs": [],
   "source": [
    "f =np.random.binomial(1, 0.4, K)"
   ]
  },
  {
   "cell_type": "code",
   "execution_count": 132,
   "metadata": {
    "collapsed": true
   },
   "outputs": [],
   "source": [
    "g = np.empty((K, V))"
   ]
  },
  {
   "cell_type": "code",
   "execution_count": 133,
   "metadata": {
    "collapsed": true
   },
   "outputs": [],
   "source": [
    "for v in range(V):\n",
    "    g[:, v] = f"
   ]
  },
  {
   "cell_type": "code",
   "execution_count": 134,
   "metadata": {
    "collapsed": true
   },
   "outputs": [],
   "source": [
    "for k in range(K):\n",
    "    e[k] = d"
   ]
  },
  {
   "cell_type": "code",
   "execution_count": 135,
   "metadata": {
    "collapsed": true
   },
   "outputs": [],
   "source": [
    "h = np.random.rand(K,V)"
   ]
  },
  {
   "cell_type": "code",
   "execution_count": 136,
   "metadata": {
    "collapsed": true
   },
   "outputs": [],
   "source": [
    "h *= e"
   ]
  },
  {
   "cell_type": "code",
   "execution_count": 137,
   "metadata": {
    "collapsed": false
   },
   "outputs": [],
   "source": [
    "h *= g"
   ]
  },
  {
   "cell_type": "code",
   "execution_count": 138,
   "metadata": {
    "collapsed": false
   },
   "outputs": [],
   "source": [
    "ids = list()\n",
    "topics = list()"
   ]
  },
  {
   "cell_type": "code",
   "execution_count": 148,
   "metadata": {
    "collapsed": true
   },
   "outputs": [],
   "source": [
    "for j in xrange(V):\n",
    "    if (d[j] != 0):\n",
    "        ids.append(j)"
   ]
  },
  {
   "cell_type": "code",
   "execution_count": 139,
   "metadata": {
    "collapsed": false
   },
   "outputs": [],
   "source": [
    "topics_list = []\n",
    "k =np.random.binomial(1, 0.8, K)\n",
    "for j in xrange(K):\n",
    "    if (k[j] != 0):\n",
    "        topics_list.append(j)"
   ]
  },
  {
   "cell_type": "code",
   "execution_count": 140,
   "metadata": {
    "collapsed": false
   },
   "outputs": [
    {
     "name": "stdout",
     "output_type": "stream",
     "text": [
      "1.90881418387\n",
      "1.78799671073\n"
     ]
    }
   ],
   "source": [
    "for k in topics_list:\n",
    "    sum_beta_k = sum(h[k,:])\n",
    "    if sum_beta_k != 0:\n",
    "        print sum_beta_k\n",
    "        h[k,:] /= sum_beta_k\n",
    "        topics.append(k)"
   ]
  },
  {
   "cell_type": "code",
   "execution_count": 141,
   "metadata": {
    "collapsed": false
   },
   "outputs": [
    {
     "data": {
      "text/plain": [
       "[0, 4]"
      ]
     },
     "execution_count": 141,
     "metadata": {},
     "output_type": "execute_result"
    }
   ],
   "source": [
    "topics"
   ]
  },
  {
   "cell_type": "code",
   "execution_count": 142,
   "metadata": {
    "collapsed": false
   },
   "outputs": [
    {
     "data": {
      "text/plain": [
       "array([[ 0.14170763,  0.15504012,  0.08714817,  0.01561604,  0.00489322,\n",
       "         0.10344354,  0.00893731,  0.18127845,  0.08724087,  0.21469465],\n",
       "       [ 0.06668734,  0.11990441,  0.02866513,  0.05694428,  0.0816893 ,\n",
       "         0.21827084,  0.08549003,  0.01808967,  0.168521  ,  0.155738  ],\n",
       "       [ 0.02479968,  0.032305  ,  0.03979548,  0.18422242,  0.08461919,\n",
       "         0.18324666,  0.17418716,  0.15752091,  0.03480325,  0.08450024],\n",
       "       [ 0.07569766,  0.1230848 ,  0.12790362,  0.04820301,  0.13782266,\n",
       "         0.00559014,  0.12649705,  0.07868797,  0.13842878,  0.1380843 ],\n",
       "       [ 0.221303  ,  0.15668132,  0.10293653,  0.12775625,  0.04000931,\n",
       "         0.04127648,  0.07784709,  0.14403152,  0.0154842 ,  0.07267432],\n",
       "       [ 0.03971273,  0.09266297,  0.08924821,  0.20659393,  0.17158985,\n",
       "         0.08260972,  0.00699758,  0.0062778 ,  0.13112329,  0.17318392]])"
      ]
     },
     "execution_count": 142,
     "metadata": {},
     "output_type": "execute_result"
    }
   ],
   "source": [
    "a"
   ]
  },
  {
   "cell_type": "code",
   "execution_count": 144,
   "metadata": {
    "collapsed": false
   },
   "outputs": [],
   "source": [
    "a[topics,:] *= (1 - rhot)"
   ]
  },
  {
   "cell_type": "code",
   "execution_count": 102,
   "metadata": {
    "collapsed": false
   },
   "outputs": [
    {
     "data": {
      "text/plain": [
       "array([[ 0.16539651,  0.14400335,  0.01720142,  0.11556578,  0.0929408 ,\n",
       "         0.05502508,  0.15991379,  0.08977414,  0.11549069,  0.04468844],\n",
       "       [ 0.06406924,  0.05418421,  0.04777618,  0.04909555,  0.01441569,\n",
       "         0.18782073,  0.02855943,  0.11444516,  0.07438532,  0.0152485 ],\n",
       "       [ 0.00646512,  0.08814394,  0.07361764,  0.11407132,  0.0614027 ,\n",
       "         0.10866488,  0.04395178,  0.03605337,  0.10563563,  0.01199362],\n",
       "       [ 0.08479757,  0.12380703,  0.14213323,  0.05415127,  0.06732672,\n",
       "         0.05083374,  0.11904422,  0.11084818,  0.12033915,  0.12671889],\n",
       "       [ 0.07819784,  0.03538324,  0.11280902,  0.10527406,  0.06496782,\n",
       "         0.04563668,  0.02730135,  0.04029371,  0.03129746,  0.10883883],\n",
       "       [ 0.12687127,  0.05457841,  0.17256105,  0.03999495,  0.11411116,\n",
       "         0.14964307,  0.03636587,  0.12436388,  0.02553204,  0.1559783 ]])"
      ]
     },
     "execution_count": 102,
     "metadata": {},
     "output_type": "execute_result"
    }
   ],
   "source": [
    "a"
   ]
  },
  {
   "cell_type": "code",
   "execution_count": 147,
   "metadata": {
    "collapsed": false
   },
   "outputs": [
    {
     "data": {
      "text/plain": [
       "array([ 1.,  1.,  1.,  1.,  1.,  1.])"
      ]
     },
     "execution_count": 147,
     "metadata": {},
     "output_type": "execute_result"
    }
   ],
   "source": [
    "a.sum(axis=1)"
   ]
  },
  {
   "cell_type": "code",
   "execution_count": 160,
   "metadata": {
    "collapsed": true
   },
   "outputs": [],
   "source": [
    "k =  h[topics, :][:, ids] * rhot"
   ]
  },
  {
   "cell_type": "code",
   "execution_count": 111,
   "metadata": {
    "collapsed": true
   },
   "outputs": [],
   "source": [
    "idss = [[i] for i in ids]"
   ]
  },
  {
   "cell_type": "code",
   "execution_count": 167,
   "metadata": {
    "collapsed": true
   },
   "outputs": [],
   "source": [
    "topicss = [[j] for j in topics]"
   ]
  },
  {
   "cell_type": "code",
   "execution_count": 149,
   "metadata": {
    "collapsed": false
   },
   "outputs": [
    {
     "data": {
      "text/plain": [
       "array([[ 0.13900222,  0.18530552,  0.12679207],\n",
       "       [ 0.06668734,  0.0816893 ,  0.08549003],\n",
       "       [ 0.02479968,  0.08461919,  0.17418716],\n",
       "       [ 0.07569766,  0.13782266,  0.12649705],\n",
       "       [ 0.2685306 ,  0.11801246,  0.18391055],\n",
       "       [ 0.03971273,  0.17158985,  0.00699758]])"
      ]
     },
     "execution_count": 149,
     "metadata": {},
     "output_type": "execute_result"
    }
   ],
   "source": [
    "a[:,ids]"
   ]
  },
  {
   "cell_type": "code",
   "execution_count": 170,
   "metadata": {
    "collapsed": false
   },
   "outputs": [],
   "source": [
    "a[topicss,ids] += k"
   ]
  },
  {
   "cell_type": "code",
   "execution_count": 152,
   "metadata": {
    "collapsed": false
   },
   "outputs": [],
   "source": [
    "a[:,ids] = a[:, ids] + a[:, ids]"
   ]
  },
  {
   "cell_type": "code",
   "execution_count": 169,
   "metadata": {
    "collapsed": false
   },
   "outputs": [
    {
     "data": {
      "text/plain": [
       "array([[ 0.04689226,  0.18212493,  0.12098281],\n",
       "       [ 0.12468365,  0.09200641,  0.13330994]])"
      ]
     },
     "execution_count": 169,
     "metadata": {},
     "output_type": "execute_result"
    }
   ],
   "source": [
    "k"
   ]
  },
  {
   "cell_type": "code",
   "execution_count": 184,
   "metadata": {
    "collapsed": false
   },
   "outputs": [
    {
     "data": {
      "text/plain": [
       "array([[ 5.08006905,  5.15199371,  5.03756641,  5.10684403,  5.05306015,\n",
       "         5.15625603,  5.15306319,  5.03744128,  5.13260395,  5.0911022 ],\n",
       "       [ 3.17062874,  3.15938615,  3.13007334,  3.00418676,  3.15966326,\n",
       "         3.06350977,  3.07794627,  3.08307042,  3.05690559,  3.0946297 ]])"
      ]
     },
     "execution_count": 184,
     "metadata": {},
     "output_type": "execute_result"
    }
   ],
   "source": [
    "a[[1,2], :]"
   ]
  },
  {
   "cell_type": "code",
   "execution_count": 166,
   "metadata": {
    "collapsed": false
   },
   "outputs": [
    {
     "data": {
      "text/plain": [
       "[[1], [2], [4]]"
      ]
     },
     "execution_count": 166,
     "metadata": {},
     "output_type": "execute_result"
    }
   ],
   "source": [
    "topicss"
   ]
  },
  {
   "cell_type": "code",
   "execution_count": 171,
   "metadata": {
    "collapsed": false
   },
   "outputs": [
    {
     "data": {
      "text/plain": [
       "array([ 1.35,  1.  ,  1.  ,  1.  ,  1.35,  1.  ])"
      ]
     },
     "execution_count": 171,
     "metadata": {},
     "output_type": "execute_result"
    }
   ],
   "source": [
    "a.sum(axis=1)"
   ]
  },
  {
   "cell_type": "code",
   "execution_count": null,
   "metadata": {
    "collapsed": true
   },
   "outputs": [],
   "source": []
  }
 ],
 "metadata": {
  "kernelspec": {
   "display_name": "Python 2",
   "language": "python",
   "name": "python2"
  },
  "language_info": {
   "codemirror_mode": {
    "name": "ipython",
    "version": 2
   },
   "file_extension": ".py",
   "mimetype": "text/x-python",
   "name": "python",
   "nbconvert_exporter": "python",
   "pygments_lexer": "ipython2",
   "version": "2.7.12"
  }
 },
 "nbformat": 4,
 "nbformat_minor": 0
}
