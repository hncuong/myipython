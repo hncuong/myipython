{
 "cells": [
  {
   "cell_type": "code",
   "execution_count": 9,
   "metadata": {
    "collapsed": true
   },
   "outputs": [],
   "source": [
    "%load_ext Cython"
   ]
  },
  {
   "cell_type": "code",
   "execution_count": 11,
   "metadata": {
    "collapsed": false
   },
   "outputs": [],
   "source": [
    "%%cython\n",
    "from __future__ import division\n",
    "#cimport cython\n",
    "import numpy as np\n",
    "cimport numpy as np\n",
    "ctypedef np.float64_t dtype_t\n",
    "ctypedef np.uint32_t uitype_t\n",
    "\n",
    "# @cython.boundscheck(False)\n",
    "# @cython.wraparound(False)\n",
    "\n",
    "def sampling ( np.ndarray[uitype_t, ndim=2] Ndk,\n",
    "               np.ndarray[dtype_t, ndim=2] Nkw_mean,\n",
    "\t       np.ndarray[dtype_t, ndim=2] Ndk_mean,\n",
    "               np.ndarray[dtype_t, ndim=2] expElogbeta,\n",
    "               np.ndarray[dtype_t, ndim=1] uni_rvs,\n",
    "\t       list z,\n",
    "               list wordtks,\n",
    "\t       list lengths,\n",
    "\t       double alpha,\n",
    "\t       double update_unit,\n",
    "               int num_sim,\n",
    "               int burn_in ):\n",
    "\n",
    "    #if not phi.flags.f_contiguous: phi = phi.copy('F')\n",
    "    #if not Adk.flags.c_contiguous: phi = phi.copy('C')\n",
    "    ##if not Bkw.flags.f_contiguous: phi = phi.copy('F')\n",
    "\n",
    "    cdef Py_ssize_t D = Ndk.shape[0]\n",
    "    cdef Py_ssize_t K = Ndk.shape[1]\n",
    "    cdef Py_ssize_t W = Nkw_mean.shape[1]\n",
    "    cdef Py_ssize_t d, w, k, sim, zInit, zOld, zNew\n",
    "    cdef Py_ssize_t rc_start = 0, rc_mid, rc_stop = K\n",
    "    cdef double prob_sum, uni_rv\n",
    "    cdef Py_ssize_t uni_idx = 0, tks_idx = 0\n",
    "    cdef np.ndarray[dtype_t, ndim=1] cumprobs = np.linspace(0,1,K+1)[0:K]\n",
    "    cdef np.ndarray[uitype_t, ndim=1] zd\n",
    "\n",
    "    # Make sure the counts are initialised to zero\n",
    "    # Ndk.fill(0)\n",
    "    # Nkw_mean.fill(0)\n",
    "    # Initialise the z_id for each document in the batch\n",
    "    for d in range(D):\n",
    "        zd = np.zeros(lengths[d], dtype=np.uint32)\n",
    "        tks_idx = 0\n",
    "        for w in wordtks[d]:\n",
    "            uni_rv = uni_rvs[uni_idx] #np.random.rand() * prob_sum\n",
    "            uni_idx += 1\n",
    "            rc_start = 0\n",
    "            rc_stop  = K\n",
    "            while rc_start < rc_stop - 1:\n",
    "                rc_mid = (rc_start + rc_stop) // 2\n",
    "                if cumprobs[rc_mid] <= uni_rv:\n",
    "                    rc_start = rc_mid\n",
    "                else:\n",
    "                    rc_stop = rc_mid\n",
    "            #while uni_rv > cumprobs[rc_start]:\n",
    "            #    rc_start += 1\n",
    "            zInit    = rc_start\n",
    "            Ndk[d,zInit] += 1\n",
    "            zd[tks_idx] = zInit\n",
    "            tks_idx += 1\n",
    "        z[d] = zd\n",
    "\n",
    "    # Draw samples from the posterior on z_ids using Gibbs sampling\n",
    "\n",
    "    # burn-in phase\n",
    "    for sim in range(burn_in):\n",
    "        for d in range(D):\n",
    "            tks_idx = 0\n",
    "            for w in wordtks[d]:\n",
    "                zOld = z[d][tks_idx]\n",
    "                Ndk[d,zOld] -= 1\n",
    "                prob_sum = 0\n",
    "                # Faster than using numpy elt product\n",
    "                for k in range(K):\n",
    "                    cumprobs[k] = prob_sum\n",
    "                    prob_sum +=  (alpha + Ndk[d,k]) * expElogbeta[k,w]\n",
    "                uni_rv = prob_sum * uni_rvs[uni_idx]\n",
    "                uni_idx += 1\n",
    "\t\t# inline randcat function call\n",
    "                rc_start = 0\n",
    "                rc_stop  = K\n",
    "                while rc_start < rc_stop - 1:\n",
    "                    rc_mid = (rc_start + rc_stop) // 2\n",
    "                    if cumprobs[rc_mid] <= uni_rv:\n",
    "                        rc_start = rc_mid\n",
    "                    else:\n",
    "                        rc_stop = rc_mid\n",
    "                zNew = rc_start\n",
    "                z[d][tks_idx] = zNew\n",
    "                tks_idx += 1\n",
    "                Ndk[d,zNew] += 1\n",
    "\n",
    "    # sampling phase\n",
    "    for sim in range(num_sim):\n",
    "        for d in range(D):\n",
    "            tks_idx = 0\n",
    "            for w in wordtks[d]:\n",
    "                zOld = z[d][tks_idx]\n",
    "                Ndk[d,zOld] -= 1\n",
    "                prob_sum = 0\n",
    "                # Faster than using numpy elt product\n",
    "                for k in range(K):\n",
    "                    cumprobs[k] = prob_sum\n",
    "                    prob_sum +=  (alpha + Ndk[d,k]) * expElogbeta[k,w]\n",
    "                uni_rv = prob_sum * uni_rvs[uni_idx]\n",
    "                uni_idx += 1\n",
    "\t\t# inline randcat function call\n",
    "                rc_start = 0\n",
    "                rc_stop  = K\n",
    "                while rc_start < rc_stop - 1:\n",
    "                    rc_mid = (rc_start + rc_stop) // 2\n",
    "                    if cumprobs[rc_mid] <= uni_rv:\n",
    "                        rc_start = rc_mid\n",
    "                    else:\n",
    "                        rc_stop = rc_mid\n",
    "                zNew = rc_start\n",
    "                z[d][tks_idx] = zNew\n",
    "                tks_idx += 1\n",
    "                Ndk[d,zNew] += 1\n",
    "                Ndk_mean[d,zNew] += update_unit\n",
    "                Nkw_mean[zNew,w] += update_unit\n"
   ]
  },
  {
   "cell_type": "code",
   "execution_count": 14,
   "metadata": {
    "collapsed": true
   },
   "outputs": [],
   "source": [
    "import numpy as n\n",
    "from scipy.special import psi\n",
    "def dirichlet_expectation(alpha):\n",
    "    \"\"\"\n",
    "    For a vector theta ~ Dir(alpha), computes E[log(theta)] given alpha.\n",
    "    \"\"\"\n",
    "    if (len(alpha.shape) == 1):\n",
    "        return(psi(alpha) - psi(n.sum(alpha)))\n",
    "    return(psi(alpha) - psi(n.sum(alpha, 1))[:, n.newaxis])"
   ]
  },
  {
   "cell_type": "code",
   "execution_count": 2,
   "metadata": {
    "collapsed": true
   },
   "outputs": [],
   "source": [
    "import numpy as n\n",
    "from scipy.special import psi\n",
    "def dirichlet_expectation(alpha):\n",
    "    \"\"\"\n",
    "    For a vector theta ~ Dir(alpha), computes E[log(theta)] given alpha.\n",
    "    \"\"\"\n",
    "#     if (len(alpha.shape) == 1):\n",
    "#         return(psi(alpha) - psi(n.sum(alpha)))\n",
    "    return(alpha**2 - (n.sum(alpha, 1)**2)[:, n.newaxis])"
   ]
  },
  {
   "cell_type": "code",
   "execution_count": 17,
   "metadata": {
    "collapsed": true
   },
   "outputs": [],
   "source": [
    "import numpy as n\n",
    "from scipy.special import psi\n",
    "from math import log\n",
    "def sf(a):\n",
    "    return a**1.5 + 1.5\n",
    "def dirichlet_expectation(alpha):\n",
    "    \"\"\"\n",
    "    For a vector theta ~ Dir(alpha), computes E[log(theta)] given alpha.\n",
    "    \"\"\"\n",
    "#     if (len(alpha.shape) == 1):\n",
    "#         return(psi(alpha) - psi(n.sum(alpha)))\n",
    "    return (sf(alpha) - (sf(n.sum(alpha, 1))[:, n.newaxis]))"
   ]
  },
  {
   "cell_type": "code",
   "execution_count": 18,
   "metadata": {
    "collapsed": true
   },
   "outputs": [],
   "source": [
    "bda = 1*n.random.gamma(100., 1./100., (5 , 6))"
   ]
  },
  {
   "cell_type": "code",
   "execution_count": 19,
   "metadata": {
    "collapsed": false
   },
   "outputs": [
    {
     "name": "stdout",
     "output_type": "stream",
     "text": [
      "[[ 1.09853738  0.96499392  1.10248365  1.17882871  0.98105439  0.91021905]\n",
      " [ 0.93599687  0.90140288  1.09070122  0.98028032  0.91733596  1.03132557]\n",
      " [ 0.96619847  1.13277934  0.99980484  1.14526639  0.97431978  0.94451184]\n",
      " [ 0.96960617  0.8235949   0.98463129  0.99024734  1.22386446  1.01755706]\n",
      " [ 0.96794406  1.06609893  0.97368769  0.81830179  0.95421755  1.05503989]]\n"
     ]
    }
   ],
   "source": [
    "print bda\n"
   ]
  },
  {
   "cell_type": "code",
   "execution_count": 20,
   "metadata": {
    "collapsed": false
   },
   "outputs": [
    {
     "name": "stdout",
     "output_type": "stream",
     "text": [
      "[[-14.42157856 -14.62501491 -14.4153688  -14.29306799 -14.60125143\n",
      "  -14.70456992]\n",
      " [-13.26927325 -13.31900942 -13.03572978 -13.20425472 -13.29621862\n",
      "  -13.12746706]\n",
      " [-14.34971499 -14.09380268 -14.29973632 -14.0738125  -14.33771555\n",
      "  -14.38151033]\n",
      " [-13.7771045  -13.98443204 -13.75482622 -13.74645522 -13.37792019\n",
      "  -13.70541111]\n",
      " [-13.14362397 -12.9951583  -13.13513517 -13.3556914  -13.16380904\n",
      "  -13.01224185]]\n"
     ]
    }
   ],
   "source": [
    "debda = dirichlet_expectation(bda)\n",
    "print debda"
   ]
  },
  {
   "cell_type": "code",
   "execution_count": 12,
   "metadata": {
    "collapsed": true
   },
   "outputs": [],
   "source": [
    "%load_ext Cython\n"
   ]
  },
  {
   "cell_type": "code",
   "execution_count": 13,
   "metadata": {
    "collapsed": false
   },
   "outputs": [],
   "source": [
    "%%cython\n",
    "import numpy as n\n",
    "cimport numpy as n\n",
    "ctypedef n.float64_t dtype_t\n",
    "from scipy.special import psi\n",
    "def dirichlet_expectation_1(n.ndarray[dtype_t, ndim=2] alpha):\n",
    "#     if len(alpha.shape) == 1:\n",
    "#         return psi(alpha) - psi(n.sum(alpha))\n",
    "    return (psi(alpha) - psi(n.sum(alpha, 1))[:, n.newaxis]"
   ]
  },
  {
   "cell_type": "code",
   "execution_count": 28,
   "metadata": {
    "collapsed": false
   },
   "outputs": [
    {
     "name": "stderr",
     "output_type": "stream",
     "text": [
      "\n",
      "Error compiling Cython file:\n",
      "------------------------------------------------------------\n",
      "...\n",
      "from __future__ import division\n",
      "import sys\n",
      "sys.path.insert(0,'/home/cuonghn/workspace/python/ipython/utils')\n",
      "from ctypes import cdll\n",
      "cimport float\n",
      "       ^\n",
      "------------------------------------------------------------\n",
      "\n",
      "/home/cuonghn/.cache/ipython/cython/_cython_magic_caaa11b51b4866791e8b0863ae6ca623.pyx:5:8: 'float.pxd' not found\n"
     ]
    }
   ],
   "source": [
    "%%cython\n",
    "from __future__ import division\n",
    "import sys\n",
    "sys.path.insert(0,'/home/cuonghn/workspace/python/ipython/utils')\n",
    "from ctypes import cdll\n",
    "cimport float\n",
    "lib = cdll.LoadLibrary('/home/cuonghn/workspace/python/ipython/utils/libdigamma.so')\n",
    "cdef float a = 0.76\n",
    "print type(a)\n",
    "b = lib.digamma(a)\n",
    "print b"
   ]
  },
  {
   "cell_type": "code",
   "execution_count": null,
   "metadata": {
    "collapsed": true
   },
   "outputs": [],
   "source": []
  }
 ],
 "metadata": {
  "kernelspec": {
   "display_name": "Python 2",
   "language": "python",
   "name": "python2"
  },
  "language_info": {
   "codemirror_mode": {
    "name": "ipython",
    "version": 2
   },
   "file_extension": ".py",
   "mimetype": "text/x-python",
   "name": "python",
   "nbconvert_exporter": "python",
   "pygments_lexer": "ipython2",
   "version": "2.7.12"
  }
 },
 "nbformat": 4,
 "nbformat_minor": 0
}
