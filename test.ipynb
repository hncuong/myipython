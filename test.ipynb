{
 "cells": [
  {
   "cell_type": "code",
   "execution_count": 1,
   "metadata": {
    "collapsed": true
   },
   "outputs": [],
   "source": [
    "def geo_prog(alpha, n):\n",
    "    current = 1.0\n",
    "    sum = current\n",
    "    for i in range(n):\n",
    "        current = current * alpha\n",
    "        sum = sum + current\n",
    "    return sum\n"
   ]
  },
  {
   "cell_type": "code",
   "execution_count": 2,
   "metadata": {
    "collapsed": true
   },
   "outputs": [],
   "source": [
    "%load_ext Cython"
   ]
  },
  {
   "cell_type": "code",
   "execution_count": 3,
   "metadata": {
    "collapsed": true
   },
   "outputs": [],
   "source": [
    "%%cython\n",
    "def geo_prog_cython(double alpha, int n):\n",
    "    cdef double current = 1.0\n",
    "    cdef double sum = current\n",
    "    cdef int i\n",
    "    for i in range(n):\n",
    "        current = current * alpha\n",
    "        sum = sum + current\n",
    "    return sum"
   ]
  },
  {
   "cell_type": "code",
   "execution_count": 4,
   "metadata": {
    "collapsed": false
   },
   "outputs": [
    {
     "name": "stdout",
     "output_type": "stream",
     "text": [
      "10 loops, best of 3: 143 ms per loop\n"
     ]
    }
   ],
   "source": [
    "timeit geo_prog(0.99, int(10**6))"
   ]
  },
  {
   "cell_type": "code",
   "execution_count": 5,
   "metadata": {
    "collapsed": false
   },
   "outputs": [
    {
     "name": "stdout",
     "output_type": "stream",
     "text": [
      "10 loops, best of 3: 44.5 ms per loop\n"
     ]
    }
   ],
   "source": [
    "timeit geo_prog_cython(0.99, int(10**6))"
   ]
  },
  {
   "cell_type": "code",
   "execution_count": 6,
   "metadata": {
    "collapsed": true
   },
   "outputs": [],
   "source": [
    "%%cython\n",
    "import numpy as np\n",
    "\n",
    "def qm_cython_first_pass(double x0, int n):\n",
    "    cdef int t\n",
    "    x = np.zeros(n+1, float)\n",
    "    x[0] = x0\n",
    "    for t in range(n):\n",
    "        x[t+1] = 4.0 * x[t] * (1 - x[t])\n",
    "    return np.asarray(x)"
   ]
  },
  {
   "cell_type": "code",
   "execution_count": 8,
   "metadata": {
    "collapsed": false
   },
   "outputs": [
    {
     "name": "stdout",
     "output_type": "stream",
     "text": [
      "10 loops, best of 3: 46.3 ms per loop\n"
     ]
    }
   ],
   "source": [
    "timeit qm_cython_first_pass(0.1, int(10**5))"
   ]
  },
  {
   "cell_type": "code",
   "execution_count": 9,
   "metadata": {
    "collapsed": true
   },
   "outputs": [],
   "source": [
    "%%cython\n",
    "import numpy as np\n",
    "from numpy cimport float_t\n",
    "\n",
    "def qm_cython(double x0, int n):\n",
    "    cdef int t\n",
    "    x_np_array = np.zeros(n+1, dtype=float)\n",
    "    cdef float_t [:] x = x_np_array\n",
    "    x[0] = x0\n",
    "    for t in range(n):\n",
    "        x[t+1] = 4.0 * x[t] * (1 - x[t])\n",
    "    return np.asarray(x)"
   ]
  },
  {
   "cell_type": "code",
   "execution_count": 10,
   "metadata": {
    "collapsed": false
   },
   "outputs": [
    {
     "name": "stdout",
     "output_type": "stream",
     "text": [
      "1000 loops, best of 3: 609 µs per loop\n"
     ]
    }
   ],
   "source": [
    "timeit qm_cython(0.1, int(10**5))"
   ]
  },
  {
   "cell_type": "code",
   "execution_count": 34,
   "metadata": {
    "collapsed": false
   },
   "outputs": [],
   "source": [
    "%%cython\n",
    "import numpy as n\n",
    "cimport numpy as n\n",
    "ctypedef n.float64_t dtype_t\n",
    "from scipy.special import psi\n",
    "def dirichlet_expectation(n.ndarray[dtype_t, ndim=2] alpha):\n",
    "#     if len(alpha.shape) == 1:\n",
    "#         return psi(alpha) - psi(n.sum(alpha))\n",
    "    return psi(alpha) - psi(n.sum(alpha, 1))[:, n.newaxis]\n"
   ]
  },
  {
   "cell_type": "code",
   "execution_count": 35,
   "metadata": {
    "collapsed": false
   },
   "outputs": [
    {
     "name": "stdout",
     "output_type": "stream",
     "text": [
      "<type 'numpy.ndarray'>\n"
     ]
    }
   ],
   "source": [
    "import numpy as np\n",
    "bda = 1*np.random.gamma(100., 1./100., (100, 100000)) \n",
    "print type(bda)"
   ]
  },
  {
   "cell_type": "raw",
   "metadata": {},
   "source": [
    "%%timeit\n",
    "dirichlet_expectation(s_lambda)\n",
    "type()"
   ]
  },
  {
   "cell_type": "code",
   "execution_count": 30,
   "metadata": {
    "collapsed": false
   },
   "outputs": [
    {
     "name": "stdout",
     "output_type": "stream",
     "text": [
      "1 loops, best of 3: 1.2 s per loop\n"
     ]
    }
   ],
   "source": [
    "%%timeit\n",
    "a = dirichlet_expectation(bda)"
   ]
  },
  {
   "cell_type": "code",
   "execution_count": 32,
   "metadata": {
    "collapsed": true
   },
   "outputs": [],
   "source": [
    "def dirichlet_expectation_m(alpha):\n",
    "    \"\"\"\n",
    "    For a vector theta ~ Dir(alpha), computes E[log(theta)] given alpha.\n",
    "    \"\"\"\n",
    "    if (len(alpha.shape) == 1):\n",
    "        return(psi(alpha) - psi(n.sum(alpha)))\n",
    "    return(psi(alpha) - psi(n.sum(alpha, 1))[:, n.newaxis])"
   ]
  },
  {
   "cell_type": "code",
   "execution_count": 33,
   "metadata": {
    "collapsed": false
   },
   "outputs": [
    {
     "name": "stdout",
     "output_type": "stream",
     "text": [
      "1 loops, best of 3: 1.19 s per loop\n"
     ]
    }
   ],
   "source": [
    "%%timeit\n",
    "b = dirichlet_expectation_m(bda)"
   ]
  },
  {
   "cell_type": "code",
   "execution_count": null,
   "metadata": {
    "collapsed": true
   },
   "outputs": [],
   "source": []
  }
 ],
 "metadata": {
  "kernelspec": {
   "display_name": "Python 2",
   "language": "python",
   "name": "python2"
  },
  "language_info": {
   "codemirror_mode": {
    "name": "ipython",
    "version": 2
   },
   "file_extension": ".py",
   "mimetype": "text/x-python",
   "name": "python",
   "nbconvert_exporter": "python",
   "pygments_lexer": "ipython2",
   "version": "2.7.12"
  }
 },
 "nbformat": 4,
 "nbformat_minor": 0
}
